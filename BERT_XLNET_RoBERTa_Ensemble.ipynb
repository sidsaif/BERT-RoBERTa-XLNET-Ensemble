{
 "cells": [
  {
   "cell_type": "code",
   "execution_count": 0,
   "metadata": {
    "colab": {
     "base_uri": "https://localhost:8080/",
     "height": 1000
    },
    "colab_type": "code",
    "id": "fvUWQux1HbCN",
    "outputId": "211ef69e-e8c3-47aa-b5fa-62dfebfdce39"
   },
   "outputs": [
    {
     "name": "stdout",
     "output_type": "stream",
     "text": [
      "Collecting transformers\n",
      "\u001b[?25l  Downloading https://files.pythonhosted.org/packages/ee/fc/bd726a15ab2c66dc09306689d04da07a3770dad724f0883f0a4bfb745087/transformers-2.4.1-py3-none-any.whl (475kB)\n",
      "\u001b[K     |████████████████████████████████| 481kB 3.4MB/s \n",
      "\u001b[?25hRequirement already satisfied: numpy in /usr/local/lib/python3.6/dist-packages (from transformers) (1.17.5)\n",
      "Requirement already satisfied: boto3 in /usr/local/lib/python3.6/dist-packages (from transformers) (1.11.9)\n",
      "Requirement already satisfied: tqdm>=4.27 in /usr/local/lib/python3.6/dist-packages (from transformers) (4.28.1)\n",
      "Collecting sentencepiece\n",
      "\u001b[?25l  Downloading https://files.pythonhosted.org/packages/74/f4/2d5214cbf13d06e7cb2c20d84115ca25b53ea76fa1f0ade0e3c9749de214/sentencepiece-0.1.85-cp36-cp36m-manylinux1_x86_64.whl (1.0MB)\n",
      "\u001b[K     |████████████████████████████████| 1.0MB 16.7MB/s \n",
      "\u001b[?25hCollecting sacremoses\n",
      "\u001b[?25l  Downloading https://files.pythonhosted.org/packages/a6/b4/7a41d630547a4afd58143597d5a49e07bfd4c42914d8335b2a5657efc14b/sacremoses-0.0.38.tar.gz (860kB)\n",
      "\u001b[K     |████████████████████████████████| 870kB 20.8MB/s \n",
      "\u001b[?25hCollecting tokenizers==0.0.11\n",
      "\u001b[?25l  Downloading https://files.pythonhosted.org/packages/5e/36/7af38d572c935f8e0462ec7b4f7a46d73a2b3b1a938f50a5e8132d5b2dc5/tokenizers-0.0.11-cp36-cp36m-manylinux1_x86_64.whl (3.1MB)\n",
      "\u001b[K     |████████████████████████████████| 3.1MB 29.7MB/s \n",
      "\u001b[?25hRequirement already satisfied: regex!=2019.12.17 in /usr/local/lib/python3.6/dist-packages (from transformers) (2019.12.20)\n",
      "Requirement already satisfied: filelock in /usr/local/lib/python3.6/dist-packages (from transformers) (3.0.12)\n",
      "Requirement already satisfied: requests in /usr/local/lib/python3.6/dist-packages (from transformers) (2.21.0)\n",
      "Requirement already satisfied: botocore<1.15.0,>=1.14.9 in /usr/local/lib/python3.6/dist-packages (from boto3->transformers) (1.14.9)\n",
      "Requirement already satisfied: jmespath<1.0.0,>=0.7.1 in /usr/local/lib/python3.6/dist-packages (from boto3->transformers) (0.9.4)\n",
      "Requirement already satisfied: s3transfer<0.4.0,>=0.3.0 in /usr/local/lib/python3.6/dist-packages (from boto3->transformers) (0.3.2)\n",
      "Requirement already satisfied: six in /usr/local/lib/python3.6/dist-packages (from sacremoses->transformers) (1.12.0)\n",
      "Requirement already satisfied: click in /usr/local/lib/python3.6/dist-packages (from sacremoses->transformers) (7.0)\n",
      "Requirement already satisfied: joblib in /usr/local/lib/python3.6/dist-packages (from sacremoses->transformers) (0.14.1)\n",
      "Requirement already satisfied: urllib3<1.25,>=1.21.1 in /usr/local/lib/python3.6/dist-packages (from requests->transformers) (1.24.3)\n",
      "Requirement already satisfied: chardet<3.1.0,>=3.0.2 in /usr/local/lib/python3.6/dist-packages (from requests->transformers) (3.0.4)\n",
      "Requirement already satisfied: idna<2.9,>=2.5 in /usr/local/lib/python3.6/dist-packages (from requests->transformers) (2.8)\n",
      "Requirement already satisfied: certifi>=2017.4.17 in /usr/local/lib/python3.6/dist-packages (from requests->transformers) (2019.11.28)\n",
      "Requirement already satisfied: python-dateutil<3.0.0,>=2.1 in /usr/local/lib/python3.6/dist-packages (from botocore<1.15.0,>=1.14.9->boto3->transformers) (2.6.1)\n",
      "Requirement already satisfied: docutils<0.16,>=0.10 in /usr/local/lib/python3.6/dist-packages (from botocore<1.15.0,>=1.14.9->boto3->transformers) (0.15.2)\n",
      "Building wheels for collected packages: sacremoses\n",
      "  Building wheel for sacremoses (setup.py) ... \u001b[?25l\u001b[?25hdone\n",
      "  Created wheel for sacremoses: filename=sacremoses-0.0.38-cp36-none-any.whl size=884628 sha256=01a0fad241d7a0c32e63e6d2412d0f0917472d1fc1ea42029534f9385bd2e668\n",
      "  Stored in directory: /root/.cache/pip/wheels/6d/ec/1a/21b8912e35e02741306f35f66c785f3afe94de754a0eaf1422\n",
      "Successfully built sacremoses\n",
      "Installing collected packages: sentencepiece, sacremoses, tokenizers, transformers\n",
      "Successfully installed sacremoses-0.0.38 sentencepiece-0.1.85 tokenizers-0.0.11 transformers-2.4.1\n",
      "Collecting seqeval\n",
      "  Downloading https://files.pythonhosted.org/packages/34/91/068aca8d60ce56dd9ba4506850e876aba5e66a6f2f29aa223224b50df0de/seqeval-0.0.12.tar.gz\n",
      "Requirement already satisfied: numpy>=1.14.0 in /usr/local/lib/python3.6/dist-packages (from seqeval) (1.17.5)\n",
      "Requirement already satisfied: Keras>=2.2.4 in /usr/local/lib/python3.6/dist-packages (from seqeval) (2.2.5)\n",
      "Requirement already satisfied: scipy>=0.14 in /usr/local/lib/python3.6/dist-packages (from Keras>=2.2.4->seqeval) (1.4.1)\n",
      "Requirement already satisfied: pyyaml in /usr/local/lib/python3.6/dist-packages (from Keras>=2.2.4->seqeval) (3.13)\n",
      "Requirement already satisfied: h5py in /usr/local/lib/python3.6/dist-packages (from Keras>=2.2.4->seqeval) (2.8.0)\n",
      "Requirement already satisfied: keras-preprocessing>=1.1.0 in /usr/local/lib/python3.6/dist-packages (from Keras>=2.2.4->seqeval) (1.1.0)\n",
      "Requirement already satisfied: six>=1.9.0 in /usr/local/lib/python3.6/dist-packages (from Keras>=2.2.4->seqeval) (1.12.0)\n",
      "Requirement already satisfied: keras-applications>=1.0.8 in /usr/local/lib/python3.6/dist-packages (from Keras>=2.2.4->seqeval) (1.0.8)\n",
      "Building wheels for collected packages: seqeval\n",
      "  Building wheel for seqeval (setup.py) ... \u001b[?25l\u001b[?25hdone\n",
      "  Created wheel for seqeval: filename=seqeval-0.0.12-cp36-none-any.whl size=7424 sha256=c2b2d7a66d272ab8e26c1c6dee79635232bf54b6fdb5b042eafe02383bc45e39\n",
      "  Stored in directory: /root/.cache/pip/wheels/4f/32/0a/df3b340a82583566975377d65e724895b3fad101a3fb729f68\n",
      "Successfully built seqeval\n",
      "Installing collected packages: seqeval\n",
      "Successfully installed seqeval-0.0.12\n",
      "Collecting tensorboardx\n",
      "\u001b[?25l  Downloading https://files.pythonhosted.org/packages/35/f1/5843425495765c8c2dd0784a851a93ef204d314fc87bcc2bbb9f662a3ad1/tensorboardX-2.0-py2.py3-none-any.whl (195kB)\n",
      "\u001b[K     |████████████████████████████████| 204kB 3.5MB/s \n",
      "\u001b[?25hRequirement already satisfied: numpy in /usr/local/lib/python3.6/dist-packages (from tensorboardx) (1.17.5)\n",
      "Requirement already satisfied: six in /usr/local/lib/python3.6/dist-packages (from tensorboardx) (1.12.0)\n",
      "Requirement already satisfied: protobuf>=3.8.0 in /usr/local/lib/python3.6/dist-packages (from tensorboardx) (3.10.0)\n",
      "Requirement already satisfied: setuptools in /usr/local/lib/python3.6/dist-packages (from protobuf>=3.8.0->tensorboardx) (45.1.0)\n",
      "Installing collected packages: tensorboardx\n",
      "Successfully installed tensorboardx-2.0\n"
     ]
    }
   ],
   "source": [
    "!pip install transformers\n",
    "!pip install seqeval\n",
    "!pip install tensorboardx"
   ]
  },
  {
   "cell_type": "code",
   "execution_count": 0,
   "metadata": {
    "colab": {
     "base_uri": "https://localhost:8080/",
     "height": 1000
    },
    "colab_type": "code",
    "id": "YuEKjQfaHbHs",
    "outputId": "cc06163e-b269-4ccf-e9d5-1249f0b2f9dc"
   },
   "outputs": [
    {
     "name": "stdout",
     "output_type": "stream",
     "text": [
      "Collecting simpletransformers\n",
      "\u001b[?25l  Downloading https://files.pythonhosted.org/packages/50/38/8aa5d194930c7fcd7a331defba1813968469b3638d5c0f4d14dc8cd8f7f1/simpletransformers-0.19.4-py3-none-any.whl (101kB)\n",
      "\r",
      "\u001b[K     |███▎                            | 10kB 31.4MB/s eta 0:00:01\r",
      "\u001b[K     |██████▌                         | 20kB 2.2MB/s eta 0:00:01\r",
      "\u001b[K     |█████████▊                      | 30kB 2.9MB/s eta 0:00:01\r",
      "\u001b[K     |█████████████                   | 40kB 2.0MB/s eta 0:00:01\r",
      "\u001b[K     |████████████████▏               | 51kB 2.4MB/s eta 0:00:01\r",
      "\u001b[K     |███████████████████▍            | 61kB 2.8MB/s eta 0:00:01\r",
      "\u001b[K     |██████████████████████▋         | 71kB 3.0MB/s eta 0:00:01\r",
      "\u001b[K     |█████████████████████████▉      | 81kB 3.2MB/s eta 0:00:01\r",
      "\u001b[K     |█████████████████████████████   | 92kB 3.6MB/s eta 0:00:01\r",
      "\u001b[K     |████████████████████████████████| 102kB 2.9MB/s \n",
      "\u001b[?25hRequirement already satisfied: scipy in /usr/local/lib/python3.6/dist-packages (from simpletransformers) (1.4.1)\n",
      "Requirement already satisfied: requests in /usr/local/lib/python3.6/dist-packages (from simpletransformers) (2.21.0)\n",
      "Requirement already satisfied: scikit-learn in /usr/local/lib/python3.6/dist-packages (from simpletransformers) (0.22.1)\n",
      "Collecting wandb\n",
      "\u001b[?25l  Downloading https://files.pythonhosted.org/packages/ed/a5/26e3142af4d8205b049ce91bbad4e961edf6734e4acfa4baae52a428f955/wandb-0.8.25-py2.py3-none-any.whl (1.4MB)\n",
      "\u001b[K     |████████████████████████████████| 1.4MB 10.4MB/s \n",
      "\u001b[?25hRequirement already satisfied: pandas in /usr/local/lib/python3.6/dist-packages (from simpletransformers) (0.25.3)\n",
      "Requirement already satisfied: seqeval in /usr/local/lib/python3.6/dist-packages (from simpletransformers) (0.0.12)\n",
      "Requirement already satisfied: regex in /usr/local/lib/python3.6/dist-packages (from simpletransformers) (2019.12.20)\n",
      "Requirement already satisfied: numpy in /usr/local/lib/python3.6/dist-packages (from simpletransformers) (1.17.5)\n",
      "Requirement already satisfied: tensorboardx in /usr/local/lib/python3.6/dist-packages (from simpletransformers) (2.0)\n",
      "Requirement already satisfied: transformers in /usr/local/lib/python3.6/dist-packages (from simpletransformers) (2.4.1)\n",
      "Requirement already satisfied: tqdm in /usr/local/lib/python3.6/dist-packages (from simpletransformers) (4.28.1)\n",
      "Requirement already satisfied: chardet<3.1.0,>=3.0.2 in /usr/local/lib/python3.6/dist-packages (from requests->simpletransformers) (3.0.4)\n",
      "Requirement already satisfied: urllib3<1.25,>=1.21.1 in /usr/local/lib/python3.6/dist-packages (from requests->simpletransformers) (1.24.3)\n",
      "Requirement already satisfied: certifi>=2017.4.17 in /usr/local/lib/python3.6/dist-packages (from requests->simpletransformers) (2019.11.28)\n",
      "Requirement already satisfied: idna<2.9,>=2.5 in /usr/local/lib/python3.6/dist-packages (from requests->simpletransformers) (2.8)\n",
      "Requirement already satisfied: joblib>=0.11 in /usr/local/lib/python3.6/dist-packages (from scikit-learn->simpletransformers) (0.14.1)\n",
      "Collecting configparser>=3.8.1\n",
      "  Downloading https://files.pythonhosted.org/packages/7a/2a/95ed0501cf5d8709490b1d3a3f9b5cf340da6c433f896bbe9ce08dbe6785/configparser-4.0.2-py2.py3-none-any.whl\n",
      "Collecting gql==0.2.0\n",
      "  Downloading https://files.pythonhosted.org/packages/c4/6f/cf9a3056045518f06184e804bae89390eb706168349daa9dff8ac609962a/gql-0.2.0.tar.gz\n",
      "Collecting docker-pycreds>=0.4.0\n",
      "  Downloading https://files.pythonhosted.org/packages/f5/e8/f6bd1eee09314e7e6dee49cbe2c5e22314ccdb38db16c9fc72d2fa80d054/docker_pycreds-0.4.0-py2.py3-none-any.whl\n",
      "Requirement already satisfied: nvidia-ml-py3>=7.352.0 in /usr/local/lib/python3.6/dist-packages (from wandb->simpletransformers) (7.352.0)\n",
      "Collecting GitPython>=1.0.0\n",
      "\u001b[?25l  Downloading https://files.pythonhosted.org/packages/20/8c/4543981439d23c4ff65b2e62dddd767ebc84a8e664a9b67e840d1e2730d3/GitPython-3.0.5-py3-none-any.whl (455kB)\n",
      "\u001b[K     |████████████████████████████████| 460kB 20.1MB/s \n",
      "\u001b[?25hRequirement already satisfied: PyYAML>=3.10 in /usr/local/lib/python3.6/dist-packages (from wandb->simpletransformers) (3.13)\n",
      "Collecting shortuuid>=0.5.0\n",
      "  Downloading https://files.pythonhosted.org/packages/80/d7/2bfc9332e68d3e15ea97b9b1588b3899ad565120253d3fd71c8f7f13b4fe/shortuuid-0.5.0.tar.gz\n",
      "Requirement already satisfied: psutil>=5.0.0 in /usr/local/lib/python3.6/dist-packages (from wandb->simpletransformers) (5.4.8)\n",
      "Collecting sentry-sdk>=0.4.0\n",
      "\u001b[?25l  Downloading https://files.pythonhosted.org/packages/23/5a/f1b0c63e40517b06bc21744a94013ca05de21de2687a59de889ea20a9ebd/sentry_sdk-0.14.1-py2.py3-none-any.whl (93kB)\n",
      "\u001b[K     |████████████████████████████████| 102kB 10.8MB/s \n",
      "\u001b[?25hCollecting subprocess32>=3.5.3\n",
      "\u001b[?25l  Downloading https://files.pythonhosted.org/packages/32/c8/564be4d12629b912ea431f1a50eb8b3b9d00f1a0b1ceff17f266be190007/subprocess32-3.5.4.tar.gz (97kB)\n",
      "\u001b[K     |████████████████████████████████| 102kB 9.7MB/s \n",
      "\u001b[?25hCollecting watchdog>=0.8.3\n",
      "\u001b[?25l  Downloading https://files.pythonhosted.org/packages/34/65/dca6d9653656630169e9f71fe3fcf2a487b671a096cf11dc3011c822a408/watchdog-0.10.1.tar.gz (94kB)\n",
      "\u001b[K     |████████████████████████████████| 102kB 10.6MB/s \n",
      "\u001b[?25hRequirement already satisfied: Click>=7.0 in /usr/local/lib/python3.6/dist-packages (from wandb->simpletransformers) (7.0)\n",
      "Requirement already satisfied: six>=1.10.0 in /usr/local/lib/python3.6/dist-packages (from wandb->simpletransformers) (1.12.0)\n",
      "Requirement already satisfied: python-dateutil>=2.6.1 in /usr/local/lib/python3.6/dist-packages (from wandb->simpletransformers) (2.6.1)\n",
      "Requirement already satisfied: pytz>=2017.2 in /usr/local/lib/python3.6/dist-packages (from pandas->simpletransformers) (2018.9)\n",
      "Requirement already satisfied: Keras>=2.2.4 in /usr/local/lib/python3.6/dist-packages (from seqeval->simpletransformers) (2.2.5)\n",
      "Requirement already satisfied: protobuf>=3.8.0 in /usr/local/lib/python3.6/dist-packages (from tensorboardx->simpletransformers) (3.10.0)\n",
      "Requirement already satisfied: sacremoses in /usr/local/lib/python3.6/dist-packages (from transformers->simpletransformers) (0.0.38)\n",
      "Requirement already satisfied: filelock in /usr/local/lib/python3.6/dist-packages (from transformers->simpletransformers) (3.0.12)\n",
      "Requirement already satisfied: tokenizers==0.0.11 in /usr/local/lib/python3.6/dist-packages (from transformers->simpletransformers) (0.0.11)\n",
      "Requirement already satisfied: sentencepiece in /usr/local/lib/python3.6/dist-packages (from transformers->simpletransformers) (0.1.85)\n",
      "Requirement already satisfied: boto3 in /usr/local/lib/python3.6/dist-packages (from transformers->simpletransformers) (1.11.9)\n",
      "Collecting graphql-core<2,>=0.5.0\n",
      "\u001b[?25l  Downloading https://files.pythonhosted.org/packages/b0/89/00ad5e07524d8c523b14d70c685e0299a8b0de6d0727e368c41b89b7ed0b/graphql-core-1.1.tar.gz (70kB)\n",
      "\u001b[K     |████████████████████████████████| 71kB 6.1MB/s \n",
      "\u001b[?25hRequirement already satisfied: promise<3,>=2.0 in /usr/local/lib/python3.6/dist-packages (from gql==0.2.0->wandb->simpletransformers) (2.3)\n",
      "Collecting gitdb2>=2.0.0\n",
      "\u001b[?25l  Downloading https://files.pythonhosted.org/packages/03/6c/99296f89bad2ef85626e1df9f677acbee8885bb043ad82ad3ed4746d2325/gitdb2-2.0.6-py2.py3-none-any.whl (63kB)\n",
      "\u001b[K     |████████████████████████████████| 71kB 10.1MB/s \n",
      "\u001b[?25hCollecting pathtools>=0.1.1\n",
      "  Downloading https://files.pythonhosted.org/packages/e7/7f/470d6fcdf23f9f3518f6b0b76be9df16dcc8630ad409947f8be2eb0ed13a/pathtools-0.1.2.tar.gz\n",
      "Requirement already satisfied: keras-preprocessing>=1.1.0 in /usr/local/lib/python3.6/dist-packages (from Keras>=2.2.4->seqeval->simpletransformers) (1.1.0)\n",
      "Requirement already satisfied: h5py in /usr/local/lib/python3.6/dist-packages (from Keras>=2.2.4->seqeval->simpletransformers) (2.8.0)\n",
      "Requirement already satisfied: keras-applications>=1.0.8 in /usr/local/lib/python3.6/dist-packages (from Keras>=2.2.4->seqeval->simpletransformers) (1.0.8)\n",
      "Requirement already satisfied: setuptools in /usr/local/lib/python3.6/dist-packages (from protobuf>=3.8.0->tensorboardx->simpletransformers) (45.1.0)\n",
      "Requirement already satisfied: botocore<1.15.0,>=1.14.9 in /usr/local/lib/python3.6/dist-packages (from boto3->transformers->simpletransformers) (1.14.9)\n",
      "Requirement already satisfied: s3transfer<0.4.0,>=0.3.0 in /usr/local/lib/python3.6/dist-packages (from boto3->transformers->simpletransformers) (0.3.2)\n",
      "Requirement already satisfied: jmespath<1.0.0,>=0.7.1 in /usr/local/lib/python3.6/dist-packages (from boto3->transformers->simpletransformers) (0.9.4)\n",
      "Collecting smmap2>=2.0.0\n",
      "  Downloading https://files.pythonhosted.org/packages/55/d2/866d45e3a121ee15a1dc013824d58072fd5c7799c9c34d01378eb262ca8f/smmap2-2.0.5-py2.py3-none-any.whl\n",
      "Requirement already satisfied: docutils<0.16,>=0.10 in /usr/local/lib/python3.6/dist-packages (from botocore<1.15.0,>=1.14.9->boto3->transformers->simpletransformers) (0.15.2)\n",
      "Building wheels for collected packages: gql, shortuuid, subprocess32, watchdog, graphql-core, pathtools\n",
      "  Building wheel for gql (setup.py) ... \u001b[?25l\u001b[?25hdone\n",
      "  Created wheel for gql: filename=gql-0.2.0-cp36-none-any.whl size=7630 sha256=4486a974fc773ced39f45475cfa0d1720920c028750189f2cc64a606e0028b1c\n",
      "  Stored in directory: /root/.cache/pip/wheels/ce/0e/7b/58a8a5268655b3ad74feef5aa97946f0addafb3cbb6bd2da23\n",
      "  Building wheel for shortuuid (setup.py) ... \u001b[?25l\u001b[?25hdone\n",
      "  Created wheel for shortuuid: filename=shortuuid-0.5.0-cp36-none-any.whl size=5497 sha256=e1850102c56715cbb97babd405eda66be3b07127f8db988b453a40ee3410892a\n",
      "  Stored in directory: /root/.cache/pip/wheels/3f/eb/fd/69e5177f67b505e44acbd1aedfbe44b91768ee0c4cd5636576\n",
      "  Building wheel for subprocess32 (setup.py) ... \u001b[?25l\u001b[?25hdone\n",
      "  Created wheel for subprocess32: filename=subprocess32-3.5.4-cp36-none-any.whl size=6489 sha256=6c3418b1686ce46ac985b9d99cbe47e57a3a702d75908f9b9be5eb9bf6ddfd4d\n",
      "  Stored in directory: /root/.cache/pip/wheels/68/39/1a/5e402bdfdf004af1786c8b853fd92f8c4a04f22aad179654d1\n",
      "  Building wheel for watchdog (setup.py) ... \u001b[?25l\u001b[?25hdone\n",
      "  Created wheel for watchdog: filename=watchdog-0.10.1-cp36-none-any.whl size=73501 sha256=e788e0f848d345606511a2d592a2902a075237e8cd099962ad4fc924ba25ad4b\n",
      "  Stored in directory: /root/.cache/pip/wheels/d3/07/ac/f8e4e29b1f6df6ed9569891d26a326f2af9ff8b77448cc46b8\n",
      "  Building wheel for graphql-core (setup.py) ... \u001b[?25l\u001b[?25hdone\n",
      "  Created wheel for graphql-core: filename=graphql_core-1.1-cp36-none-any.whl size=104650 sha256=977b35958e096e5f3a50ec0c58789779871e7cc78364d45b0940d36d814e9c4d\n",
      "  Stored in directory: /root/.cache/pip/wheels/45/99/d7/c424029bb0fe910c63b68dbf2aa20d3283d023042521bcd7d5\n",
      "  Building wheel for pathtools (setup.py) ... \u001b[?25l\u001b[?25hdone\n",
      "  Created wheel for pathtools: filename=pathtools-0.1.2-cp36-none-any.whl size=8784 sha256=cf5330d7b28bbb2a784d2f1572f863f724822db945157b538a6575d99bfe2429\n",
      "  Stored in directory: /root/.cache/pip/wheels/0b/04/79/c3b0c3a0266a3cb4376da31e5bfe8bba0c489246968a68e843\n",
      "Successfully built gql shortuuid subprocess32 watchdog graphql-core pathtools\n",
      "Installing collected packages: configparser, graphql-core, gql, docker-pycreds, smmap2, gitdb2, GitPython, shortuuid, sentry-sdk, subprocess32, pathtools, watchdog, wandb, simpletransformers\n",
      "Successfully installed GitPython-3.0.5 configparser-4.0.2 docker-pycreds-0.4.0 gitdb2-2.0.6 gql-0.2.0 graphql-core-1.1 pathtools-0.1.2 sentry-sdk-0.14.1 shortuuid-0.5.0 simpletransformers-0.19.4 smmap2-2.0.5 subprocess32-3.5.4 wandb-0.8.25 watchdog-0.10.1\n"
     ]
    }
   ],
   "source": [
    "pip install simpletransformers"
   ]
  },
  {
   "cell_type": "code",
   "execution_count": 0,
   "metadata": {
    "colab": {},
    "colab_type": "code",
    "id": "r6OO0Xi8HbPU"
   },
   "outputs": [],
   "source": [
    "import pandas as pd"
   ]
  },
  {
   "cell_type": "markdown",
   "metadata": {
    "colab_type": "text",
    "id": "V2D2VKjRP01g"
   },
   "source": [
    "Mount Google Drive"
   ]
  },
  {
   "cell_type": "code",
   "execution_count": 0,
   "metadata": {
    "colab": {},
    "colab_type": "code",
    "id": "aZuvT7QFITpe"
   },
   "outputs": [],
   "source": [
    "from google.colab import drive\n",
    "drive.mount('/content/drive', force_remount=True)"
   ]
  },
  {
   "cell_type": "markdown",
   "metadata": {
    "colab_type": "text",
    "id": "Gllwk6zAP4e_"
   },
   "source": [
    "**Reading** data"
   ]
  },
  {
   "cell_type": "code",
   "execution_count": 0,
   "metadata": {
    "colab": {},
    "colab_type": "code",
    "id": "YUVaiEtQAV_g"
   },
   "outputs": [],
   "source": [
    "import os\n",
    "os.chdir('/content/drive/My Drive/bert_model/')\n",
    "print(os. getcwd())"
   ]
  },
  {
   "cell_type": "code",
   "execution_count": 0,
   "metadata": {
    "colab": {},
    "colab_type": "code",
    "id": "9dx_5HD8H19W"
   },
   "outputs": [],
   "source": [
    "test_df = pd.read_csv('/content/drive/My Drive/bert/bert_test_latest.csv', encoding=\"ISO-8859-1\")\n",
    "#test_df = test_df.sample(n=10000, random_state=23)\n",
    "#test_df.head()\n",
    "#test_df = test_df.sample(n=5000, random_state=23)"
   ]
  },
  {
   "cell_type": "code",
   "execution_count": 0,
   "metadata": {
    "colab": {},
    "colab_type": "code",
    "id": "cVQ7ug7sH2AF"
   },
   "outputs": [],
   "source": [
    "df = pd.read_csv('/content/drive/My Drive/bert/bert_train_latest.csv', encoding=\"ISO-8859-1\")\n",
    "#df.head()"
   ]
  },
  {
   "cell_type": "code",
   "execution_count": 0,
   "metadata": {
    "colab": {},
    "colab_type": "code",
    "id": "xZZ8pfjKH2Cs"
   },
   "outputs": [],
   "source": [
    "#df['labels'] = list(zip(df[\"Class 173\"].tolist(), df[\"Class 215\"].tolist(), df[\"Class 189\"].tolist(), df[\"Class 192\"].tolist(), df[\"Class 206\"].tolist(), df[\"Class 108\"].tolist(), df[\"Class 209\"].tolist(), df[\"Class 174\"].tolist(), df[\"Class 148\"].tolist(), df[\"Class 212\"].tolist(), df[\"Class 160\"].tolist(), df[\"Class 74\"].tolist(), df[\"Class 57\"].tolist(), df[\"Class 86\"].tolist(), df[\"Class 168\"].tolist(), df[\"Class 175\"].tolist(), df[\"Class 161\"].tolist(), df[\"Class 223\"].tolist(), df[\"Class 64\"].tolist(), df[\"Class 126\"].tolist(), df[\"Class 185\"].tolist(), df[\"Class 225\"].tolist(), df[\"Class 75\"].tolist(), df[\"Class 216\"].tolist(), df[\"Class 217\"].tolist(), df[\"Class 109\"].tolist(), df[\"Class 82\"].tolist(), df[\"Class 61\"].tolist(), df[\"Class 107\"].tolist(), df[\"Class 158\"].tolist(), df[\"Class 59\"].tolist(), df[\"Class 105\"].tolist(), df[\"Class 73\"].tolist(), df[\"Class 117\"].tolist(), df[\"Class 84\"].tolist(), df[\"Class 179\"].tolist(), df[\"Class 199\"].tolist(), df[\"Class 78\"].tolist(), df[\"Class 178\"].tolist(), df[\"Class 201\"].tolist(), df[\"Class 50\"].tolist(), df[\"Class 200\"].tolist(), df[\"Class 234\"].tolist(), df[\"Class 131\"].tolist(), df[\"Class 133\"].tolist(), df[\"Class 135\"].tolist(), df[\"Class 203\"].tolist(), df[\"Class 139\"].tolist(), df[\"Class 222\"].tolist(), df[\"Class 99\"].tolist(), df[\"Class 171\"].tolist(), df[\"Class 210\"].tolist(), df[\"Class 193\"].tolist(), df[\"Class 208\"].tolist(), df[\"Class 198\"].tolist(), df[\"Class 183\"].tolist(), df[\"Class 227\"].tolist(), df[\"Class 202\"].tolist(), df[\"Class 93\"].tolist(), df[\"Class 72\"].tolist(), df[\"Class 157\"].tolist(), df[\"Class 63\"].tolist(), df[\"Class 112\"].tolist(), df[\"Class 37\"].tolist(), df[\"Class 142\"].tolist(), df[\"Class 213\"].tolist(), df[\"Class 48\"].tolist(), df[\"Class 122\"].tolist(), df[\"Class 149\"].tolist(), df[\"Class 55\"].tolist(), df[\"Class 67\"].tolist(), df[\"Class 41\"].tolist(), df[\"Class 68\"].tolist(), df[\"Class 95\"].tolist(), df[\"Class 165\"].tolist(), df[\"Class 66\"].tolist(), df[\"Class 81\"].tolist(), df[\"Class 52\"].tolist(), df[\"Class 128\"].tolist(), df[\"Class 220\"].tolist(), df[\"Class 136\"].tolist(), df[\"Class 54\"].tolist(), df[\"Class 49\"].tolist(), df[\"Class 60\"].tolist(), df[\"Class 103\"].tolist(), df[\"Class 155\"].tolist(), df[\"Class 101\"].tolist(), df[\"Class 191\"].tolist(), df[\"Class 70\"].tolist(), df[\"Class 129\"].tolist(), df[\"Class 207\"].tolist(), df[\"Class 170\"].tolist(), df[\"Class 176\"].tolist(), df[\"Class 181\"].tolist(), df[\"Class 187\"].tolist(), df[\"Class 114\"].tolist(), df[\"Class 137\"].tolist(), df[\"Class 134\"].tolist(), df[\"Class 110\"].tolist(), df[\"Class 56\"].tolist(), df[\"Class 44\"].tolist(), df[\"Class 214\"].tolist(), df[\"Class 43\"].tolist(), df[\"Class 169\"].tolist(), df[\"Class 90\"].tolist(), df[\"Class 145\"].tolist(), df[\"Class 120\"].tolist(), df[\"Class 163\"].tolist(), df[\"Class 102\"].tolist(), df[\"Class 153\"].tolist(), df[\"Class 180\"].tolist(), df[\"Class 194\"].tolist(), df[\"Class 197\"].tolist(), df[\"Class 98\"].tolist(), df[\"Class 123\"].tolist(), df[\"Class 182\"].tolist(), df[\"Class 62\"].tolist(), df[\"Class 233\"].tolist(), df[\"Class 80\"].tolist(), df[\"Class 96\"].tolist(), df[\"Class 42\"].tolist(), df[\"Class 230\"].tolist(), df[\"Class 119\"].tolist(), df[\"Class 92\"].tolist(), df[\"Class 152\"].tolist(), df[\"Class 65\"].tolist(), df[\"Class 231\"].tolist(), df[\"Class 51\"].tolist(), df[\"Class 186\"].tolist(), df[\"Class 224\"].tolist(), df[\"Class 147\"].tolist(), df[\"Class 121\"].tolist(), df[\"Class 229\"].tolist(), df[\"Class 140\"].tolist(), df[\"Class 172\"].tolist(), df[\"Class 219\"].tolist(), df[\"Class 79\"].tolist(), df[\"Class 196\"].tolist(), df[\"Class 127\"].tolist(), df[\"Class 154\"].tolist(), df[\"Class 83\"].tolist(), df[\"Class 106\"].tolist(), df[\"Class 156\"].tolist(), df[\"Class 104\"].tolist(), df[\"Class 146\"].tolist(), df[\"Class 143\"].tolist(), df[\"Class 116\"].tolist(), df[\"Class 77\"].tolist(), df[\"Class 58\"].tolist(), df[\"Class 150\"].tolist(), df[\"Class 38\"].tolist(), df[\"Class 167\"].tolist(), df[\"Class 218\"].tolist(), df[\"Class 91\"].tolist(), df[\"Class 141\"].tolist(), df[\"Class 232\"].tolist(), df[\"Class 71\"].tolist(), df[\"Class 115\"].tolist(), df[\"Class 76\"].tolist(), df[\"Class 138\"].tolist(), df[\"Class 97\"].tolist(), df[\"Class 113\"].tolist(), df[\"Class 118\"].tolist(), df[\"Class 47\"].tolist(), df[\"Class 69\"].tolist(), df[\"Class 87\"].tolist(), df[\"Class 40\"].tolist(), df[\"Class 228\"].tolist(), df[\"Class 184\"].tolist(), df[\"Class 162\"].tolist(), df[\"Class 144\"].tolist(), df[\"Class 39\"].tolist(), df[\"Class 45\"].tolist(), df[\"Class 226\"].tolist(), df[\"Class 211\"].tolist(), df[\"Class 88\"].tolist(), df[\"Class 195\"].tolist(), df[\"Class 151\"].tolist(), df[\"Class 132\"].tolist(), df[\"Class 188\"].tolist(), df[\"Class 89\"].tolist(), df[\"Class 166\"].tolist(), df[\"Class 94\"].tolist(), df[\"Class 164\"].tolist(), df[\"Class 130\"].tolist(), df[\"Class 204\"].tolist(), df[\"Class 177\"].tolist(), df[\"Class 125\"].tolist(), df[\"Class 190\"].tolist(), df[\"Class 159\"].tolist(), df[\"Class 100\"].tolist(), df[\"Class 53\"].tolist(), df[\"Class 111\"].tolist(), df[\"Class 85\"].tolist(), df[\"Class 124\"].tolist(), df[\"Class 221\"].tolist(), df[\"Class 46\"].tolist(), df[\"Class 205\"].tolist()))\n",
    "\n",
    "#df['labels'] = list(zip(df['NEUTRAL'].tolist(), df['LIKE'].tolist(), df['IMPROVEMENT'].tolist()))\n",
    "\n",
    "df['text'] = df['Verbatim Response'].apply(lambda x: x.replace('\\n', ' '))\n",
    "#df.head()"
   ]
  },
  {
   "cell_type": "markdown",
   "metadata": {
    "colab_type": "text",
    "id": "u-_-aEGgP7W5"
   },
   "source": [
    "Split into Train/Test"
   ]
  },
  {
   "cell_type": "code",
   "execution_count": 0,
   "metadata": {
    "colab": {},
    "colab_type": "code",
    "id": "YsA1noI_z-Rt"
   },
   "outputs": [],
   "source": [
    "from sklearn.model_selection import train_test_split\n",
    "train_df, eval_df = train_test_split(df, test_size=0.2, random_state = 345)"
   ]
  },
  {
   "cell_type": "markdown",
   "metadata": {
    "colab_type": "text",
    "id": "DkjqMuMpP-qP"
   },
   "source": [
    "Initialize Model and Parameters"
   ]
  },
  {
   "cell_type": "code",
   "execution_count": 0,
   "metadata": {
    "colab": {},
    "colab_type": "code",
    "id": "KOCQ8vFaz-O6"
   },
   "outputs": [],
   "source": [
    "from simpletransformers.classification import MultiLabelClassificationModel\n",
    "roberta = MultiLabelClassificationModel('roberta', '/content/drive/My Drive/bert_output/outputs/', num_labels=196, args={'reprocess_input_data': True, 'overwrite_output_dir': True, 'num_train_epochs': 2, 'train_batch_size': 32, 'evaluate_during_training_steps': 4000})\n",
    " #'max_seq_length': 512"
   ]
  },
  {
   "cell_type": "code",
   "execution_count": 0,
   "metadata": {
    "colab": {},
    "colab_type": "code",
    "id": "DKlIOAzmwH8q"
   },
   "outputs": [],
   "source": [
    "from simpletransformers.classification import MultiLabelClassificationModel\n",
    "bert = MultiLabelClassificationModel('bert', 'bert-base-uncased', num_labels=196, args={'reprocess_input_data': True, 'overwrite_output_dir': True, 'num_train_epochs': 10, 'train_batch_size': 32, 'evaluate_during_training_steps': 4000, 'max_seq_length': 128, \"learning_rate\":2e-5})"
   ]
  },
  {
   "cell_type": "code",
   "execution_count": 0,
   "metadata": {
    "colab": {},
    "colab_type": "code",
    "id": "dH0dohV3_VS_"
   },
   "outputs": [],
   "source": [
    "from simpletransformers.classification import MultiLabelClassificationModel\n",
    "xlnet = MultiLabelClassificationModel('xlnet', '/content/drive/My Drive/xlnet/outputs/', num_labels=196, args={'reprocess_input_data': True, 'overwrite_output_dir': True, 'num_train_epochs': 5, 'train_batch_size': 32, 'evaluate_during_training_steps': 4000})"
   ]
  },
  {
   "cell_type": "code",
   "execution_count": 0,
   "metadata": {
    "colab": {},
    "colab_type": "code",
    "id": "3Z4rptSK16AQ"
   },
   "outputs": [],
   "source": [
    "train_df = train_df[['text', 'labels']]"
   ]
  },
  {
   "cell_type": "markdown",
   "metadata": {
    "colab_type": "text",
    "id": "VaH38pUWQB5I"
   },
   "source": [
    "Training the model"
   ]
  },
  {
   "cell_type": "code",
   "execution_count": 0,
   "metadata": {
    "colab": {
     "base_uri": "https://localhost:8080/",
     "height": 187
    },
    "colab_type": "code",
    "id": "Xj1tQDR-ZT0e",
    "outputId": "773165ca-2dd4-41f1-821d-9217681a2afa"
   },
   "outputs": [
    {
     "name": "stdout",
     "output_type": "stream",
     "text": [
      "Collecting git+https://www.github.com/nvidia/apex.git\n",
      "  Cloning https://www.github.com/nvidia/apex.git to /tmp/pip-req-build-taj3ueea\n",
      "  Running command git clone -q https://www.github.com/nvidia/apex.git /tmp/pip-req-build-taj3ueea\n",
      "Building wheels for collected packages: apex\n",
      "  Building wheel for apex (setup.py) ... \u001b[?25l\u001b[?25hdone\n",
      "  Created wheel for apex: filename=apex-0.1-cp36-none-any.whl size=139502 sha256=cd69eae2f2402f3a8f7eebcc2cf2da8a79c2ec3a0c871f7c41ac1e2bd2d4e9d8\n",
      "  Stored in directory: /tmp/pip-ephem-wheel-cache-sy8nsiru/wheels/ab/90/0b/168203e2d89af76e52551b4ca1cca93791d8aefb78587bcac8\n",
      "Successfully built apex\n",
      "Installing collected packages: apex\n",
      "Successfully installed apex-0.1\n"
     ]
    }
   ],
   "source": [
    "!pip install git+https://www.github.com/nvidia/apex.git"
   ]
  },
  {
   "cell_type": "code",
   "execution_count": 0,
   "metadata": {
    "colab": {
     "base_uri": "https://localhost:8080/",
     "height": 641,
     "referenced_widgets": [
      "8900836eaa6846e29a5ae85f47efd409",
      "b164f995a57d4816b65357aff3514633",
      "441ebe2aff8f4209a906d294fc83488f",
      "333571fac1d34ab4bc2bb601f19edacb",
      "459fa01d06c74af29b26507dd43b0d88",
      "7b3489c5975848d18326ecbe91b4c320",
      "52af4c7e92774161828539aa6804ecd4",
      "4050395445d04552b8023143f7a5f6f0",
      "064691d40fb947ce80ffdccc5b13d44b",
      "083c5de0c88249289198444de4430dd1",
      "fa0971d7fa8843578406f3dd8edd9a7e",
      "1ede71b721d246e784dbb74e41a1eab3",
      "7406c9b7e4c949afbaa597885ac2e72c",
      "59a0564960ab40fba806c63304cc26a9",
      "a0fc63e03f8b46cc9cbf8f706e1c74b6",
      "afefa094c2694917ab8fb7f9f44d182e",
      "58ed1e36a255430c802b4f242e3ed9ab",
      "3426a0fb2b9545b09ced179ecbfc7837",
      "458456ff5fdc4f538da0c5c2e8131cb7",
      "ecad2789e81949d0a6bbdd1ddd8e1685",
      "c9c280f8eae44022899abb032ec43a39",
      "51ba83ecc01d451db727e3b8d500ae74",
      "ed7855ef83f440b2be5b3aae326a8d50",
      "f458cbdf22b142c0891340ac9e2ef283",
      "8a2d25e703174b59a916c507c9fd08d3",
      "60e78242ee834944935d64cc6aa6d341",
      "aa7c207258d04c6cb4d6596a96d0f12d",
      "b8648122520444cfac8b4455c3e0b41e",
      "0f576027f8c04b8f86bc7f9c6076d685",
      "bc02623a8ebc4719b91ee303d9267a58",
      "927c9e2139204caab0154d20634c2be4",
      "a05bd131a0a94fe7be08cce267360484"
     ]
    },
    "colab_type": "code",
    "id": "InZh2HVk16dX",
    "outputId": "196ffcc8-b0e8-4231-f48f-bb83cba40406"
   },
   "outputs": [
    {
     "name": "stdout",
     "output_type": "stream",
     "text": [
      "Converting to features started. Cache is not used.\n"
     ]
    },
    {
     "data": {
      "application/vnd.jupyter.widget-view+json": {
       "model_id": "8900836eaa6846e29a5ae85f47efd409",
       "version_major": 2,
       "version_minor": 0
      },
      "text/plain": [
       "HBox(children=(IntProgress(value=0, max=137007), HTML(value='')))"
      ]
     },
     "metadata": {
      "tags": []
     },
     "output_type": "display_data"
    },
    {
     "name": "stdout",
     "output_type": "stream",
     "text": [
      "\n",
      "Selected optimization level O1:  Insert automatic casts around Pytorch functions and Tensor methods.\n",
      "\n",
      "Defaults for this optimization level are:\n",
      "enabled                : True\n",
      "opt_level              : O1\n",
      "cast_model_type        : None\n",
      "patch_torch_functions  : True\n",
      "keep_batchnorm_fp32    : None\n",
      "master_weights         : None\n",
      "loss_scale             : dynamic\n",
      "Processing user overrides (additional kwargs that are not None)...\n",
      "After processing overrides, optimization options are:\n",
      "enabled                : True\n",
      "opt_level              : O1\n",
      "cast_model_type        : None\n",
      "patch_torch_functions  : True\n",
      "keep_batchnorm_fp32    : None\n",
      "master_weights         : None\n",
      "loss_scale             : dynamic\n",
      "Warning:  multi_tensor_applier fused unscale kernel is unavailable, possibly because apex was installed without --cuda_ext --cpp_ext. Using Python fallback.  Original ImportError was: ModuleNotFoundError(\"No module named 'amp_C'\",)\n"
     ]
    },
    {
     "data": {
      "application/vnd.jupyter.widget-view+json": {
       "model_id": "064691d40fb947ce80ffdccc5b13d44b",
       "version_major": 2,
       "version_minor": 0
      },
      "text/plain": [
       "HBox(children=(IntProgress(value=0, description='Epoch', max=10, style=ProgressStyle(description_width='initia…"
      ]
     },
     "metadata": {
      "tags": []
     },
     "output_type": "display_data"
    },
    {
     "data": {
      "application/vnd.jupyter.widget-view+json": {
       "model_id": "58ed1e36a255430c802b4f242e3ed9ab",
       "version_major": 2,
       "version_minor": 0
      },
      "text/plain": [
       "HBox(children=(IntProgress(value=0, description='Current iteration', max=4282, style=ProgressStyle(description…"
      ]
     },
     "metadata": {
      "tags": []
     },
     "output_type": "display_data"
    },
    {
     "name": "stdout",
     "output_type": "stream",
     "text": [
      "\r",
      "Running loss: 0.703001"
     ]
    },
    {
     "name": "stderr",
     "output_type": "stream",
     "text": [
      "/usr/local/lib/python3.6/dist-packages/torch/optim/lr_scheduler.py:113: UserWarning: Seems like `optimizer.step()` has been overridden after learning rate scheduler initialization. Please, make sure to call `optimizer.step()` before `lr_scheduler.step()`. See more details at https://pytorch.org/docs/stable/optim.html#how-to-adjust-learning-rate\n",
      "  \"https://pytorch.org/docs/stable/optim.html#how-to-adjust-learning-rate\", UserWarning)\n"
     ]
    },
    {
     "name": "stdout",
     "output_type": "stream",
     "text": [
      "Running loss: 0.697424"
     ]
    },
    {
     "name": "stderr",
     "output_type": "stream",
     "text": [
      "/usr/local/lib/python3.6/dist-packages/torch/optim/lr_scheduler.py:224: UserWarning: To get the last learning rate computed by the scheduler, please use `get_last_lr()`.\n",
      "  warnings.warn(\"To get the last learning rate computed by the scheduler, \"\n"
     ]
    },
    {
     "name": "stdout",
     "output_type": "stream",
     "text": [
      "Running loss: 0.035927"
     ]
    },
    {
     "data": {
      "application/vnd.jupyter.widget-view+json": {
       "model_id": "8a2d25e703174b59a916c507c9fd08d3",
       "version_major": 2,
       "version_minor": 0
      },
      "text/plain": [
       "HBox(children=(IntProgress(value=0, description='Current iteration', max=4282, style=ProgressStyle(description…"
      ]
     },
     "metadata": {
      "tags": []
     },
     "output_type": "display_data"
    },
    {
     "name": "stdout",
     "output_type": "stream",
     "text": [
      "Running loss: 0.035476"
     ]
    }
   ],
   "source": [
    "# Train the model\n",
    "bert.train_model(train_df)"
   ]
  },
  {
   "cell_type": "markdown",
   "metadata": {
    "colab_type": "text",
    "id": "pY6ShHpbQEbh"
   },
   "source": [
    "Evaluating the model"
   ]
  },
  {
   "cell_type": "code",
   "execution_count": 0,
   "metadata": {
    "colab": {
     "base_uri": "https://localhost:8080/",
     "height": 353,
     "referenced_widgets": [
      "3899788f5dd948a782e159e38d7fd90f",
      "fecc218b12414aa5a220bcc25d520287",
      "8b1cd1fa5a7543aeb59a2920974f5d37",
      "08c5a1b98b144a529db43a1d8a65293e",
      "4a1b8017c8584e1484f3290167c35595",
      "b7fe871c7aa24f35976c9c61cc471afd",
      "e3db719c693246c7874ea9e61338b392",
      "6674c1eca7d54eefa1e7a0cde2eeecf7",
      "519c6034cae54ba19e05d33ebf1ffa2a",
      "744a7065a6ad49f9b849e257884089cc",
      "5e81de9459ff4d1b9b6f8eb337783154",
      "5cfabdc2802549f8ae31251962d87ff6",
      "db7ddd893813493e8ab0248f3a97c49f",
      "ed96da96e5024f65bd8412f966b89ce6",
      "0046bbbdf5d541699abab50c15869b5e",
      "b88186e6056c4f75bf57028d3748e564"
     ]
    },
    "colab_type": "code",
    "id": "8HplkynA16aO",
    "outputId": "3c1ab068-a5ed-4524-93ea-45685d4a4fde"
   },
   "outputs": [
    {
     "data": {
      "application/vnd.jupyter.widget-view+json": {
       "model_id": "3899788f5dd948a782e159e38d7fd90f",
       "version_major": 2,
       "version_minor": 0
      },
      "text/plain": [
       "HBox(children=(IntProgress(value=0, max=34252), HTML(value='')))"
      ]
     },
     "metadata": {
      "tags": []
     },
     "output_type": "display_data"
    },
    {
     "name": "stdout",
     "output_type": "stream",
     "text": [
      "\n"
     ]
    },
    {
     "data": {
      "application/vnd.jupyter.widget-view+json": {
       "model_id": "519c6034cae54ba19e05d33ebf1ffa2a",
       "version_major": 2,
       "version_minor": 0
      },
      "text/plain": [
       "HBox(children=(IntProgress(value=0, max=4282), HTML(value='')))"
      ]
     },
     "metadata": {
      "tags": []
     },
     "output_type": "display_data"
    },
    {
     "name": "stdout",
     "output_type": "stream",
     "text": [
      "\n",
      "{'LRAP': 0.7723897180149089, 'eval_loss': 0.015881078663962427}\n",
      "[[3.3864773e-05 1.6565971e-05 5.2268468e-05 ... 1.4005033e-05\n",
      "  1.2347567e-03 1.2685131e-05]\n",
      " [1.5816739e-03 1.6221339e-04 3.2214614e-04 ... 1.3171918e-04\n",
      "  7.9214008e-04 1.4436926e-04]\n",
      " [3.5082910e-03 5.2109489e-04 1.1327729e-03 ... 6.6709792e-04\n",
      "  4.4508595e-03 1.5953516e-03]\n",
      " ...\n",
      " [1.3465488e-02 2.9329790e-04 3.1261574e-03 ... 1.6381124e-04\n",
      "  3.6299075e-03 2.6060999e-04]\n",
      " [1.4002282e-05 2.1349483e-06 5.6231684e-06 ... 2.2899080e-06\n",
      "  1.4732553e-04 2.8368518e-06]\n",
      " [2.1373504e-04 1.0311579e-04 5.4232351e-04 ... 1.4410232e-04\n",
      "  4.4405437e-03 3.0949697e-04]]\n"
     ]
    }
   ],
   "source": [
    "# Evaluate the model\n",
    "result, model_outputs, wrong_predictions = bert.eval_model(eval_df)\n",
    "print(result)\n",
    "print(model_outputs)"
   ]
  },
  {
   "cell_type": "code",
   "execution_count": 0,
   "metadata": {
    "colab": {},
    "colab_type": "code",
    "id": "8opifBB1ZnIu"
   },
   "outputs": [],
   "source": [
    "test_df['text'] = test_df['Verbatim Response'].apply(lambda x: x.replace('\\n', ' '))"
   ]
  },
  {
   "cell_type": "markdown",
   "metadata": {
    "colab_type": "text",
    "id": "IASFG6veQHyR"
   },
   "source": [
    "Prediction"
   ]
  },
  {
   "cell_type": "code",
   "execution_count": 0,
   "metadata": {
    "colab": {
     "base_uri": "https://localhost:8080/",
     "height": 197
    },
    "colab_type": "code",
    "id": "grEWWIFY9gYu",
    "outputId": "3873e21e-ff0c-42d1-eafd-0906afd29447"
   },
   "outputs": [
    {
     "ename": "NameError",
     "evalue": "ignored",
     "output_type": "error",
     "traceback": [
      "\u001b[0;31m---------------------------------------------------------------------------\u001b[0m",
      "\u001b[0;31mNameError\u001b[0m                                 Traceback (most recent call last)",
      "\u001b[0;32m<ipython-input-1-1dca09b8ffb1>\u001b[0m in \u001b[0;36m<module>\u001b[0;34m()\u001b[0m\n\u001b[0;32m----> 1\u001b[0;31m \u001b[0mpredictions\u001b[0m\u001b[0;34m,\u001b[0m \u001b[0mraw_outputs\u001b[0m \u001b[0;34m=\u001b[0m \u001b[0mbert\u001b[0m\u001b[0;34m.\u001b[0m\u001b[0mpredict\u001b[0m\u001b[0;34m(\u001b[0m\u001b[0mtest_df\u001b[0m\u001b[0;34m[\u001b[0m\u001b[0;34m'text'\u001b[0m\u001b[0;34m]\u001b[0m\u001b[0;34m)\u001b[0m\u001b[0;34m\u001b[0m\u001b[0;34m\u001b[0m\u001b[0m\n\u001b[0m\u001b[1;32m      2\u001b[0m \u001b[0mprint\u001b[0m\u001b[0;34m(\u001b[0m\u001b[0mpredictions\u001b[0m\u001b[0;34m)\u001b[0m\u001b[0;34m\u001b[0m\u001b[0;34m\u001b[0m\u001b[0m\n\u001b[1;32m      3\u001b[0m \u001b[0mprint\u001b[0m\u001b[0;34m(\u001b[0m\u001b[0mraw_outputs\u001b[0m\u001b[0;34m)\u001b[0m\u001b[0;34m\u001b[0m\u001b[0;34m\u001b[0m\u001b[0m\n",
      "\u001b[0;31mNameError\u001b[0m: name 'bert' is not defined"
     ]
    }
   ],
   "source": [
    "predictions, raw_outputs = bert.predict(test_df['text'])\n",
    "print(predictions)\n",
    "print(raw_outputs)"
   ]
  },
  {
   "cell_type": "code",
   "execution_count": 0,
   "metadata": {
    "colab": {
     "base_uri": "https://localhost:8080/",
     "height": 302,
     "referenced_widgets": [
      "8edbf7942479466194d96cc4ac15b252",
      "5edb125df5a54e63bbd70612454be529",
      "f730e5bdd86f46af88cfdf5649af273a",
      "1e490a4dc44d40aaab097400935421c7",
      "432773fcf60e467ebd98b21e6b239fb6",
      "439b8d2e60fe4f65a97863a125ffeed8",
      "95b4310b075f47269a7b3d4a0cf4a70a",
      "894c4e386a92402a9f9d5c734d041cd4",
      "a9e38504c96649c487fd3a4810f86f7f",
      "cd281a5ab2b74102a88e54eef7975a08",
      "65e8736f4f3f4555a6b5e470c1efe1a1",
      "fe65ce1777f54662a11b544c014052bd",
      "a4e84562022c41ac9612d818c2f36863",
      "79985d2d103740f9bf298bdfd0b85040",
      "41604477b2c94a379e88dac9f64dfdd8",
      "653e1c3c0a614c16a81e1725aa6d09ee"
     ]
    },
    "colab_type": "code",
    "id": "AXXya4_YZnMF",
    "outputId": "071aa79c-404b-4c8c-d288-b95169cd6594"
   },
   "outputs": [
    {
     "name": "stdout",
     "output_type": "stream",
     "text": [
      "Converting to features started. Cache is not used.\n"
     ]
    },
    {
     "data": {
      "application/vnd.jupyter.widget-view+json": {
       "model_id": "8edbf7942479466194d96cc4ac15b252",
       "version_major": 2,
       "version_minor": 0
      },
      "text/plain": [
       "HBox(children=(IntProgress(value=0, max=24712), HTML(value='')))"
      ]
     },
     "metadata": {
      "tags": []
     },
     "output_type": "display_data"
    },
    {
     "name": "stdout",
     "output_type": "stream",
     "text": [
      "\n"
     ]
    },
    {
     "data": {
      "application/vnd.jupyter.widget-view+json": {
       "model_id": "a9e38504c96649c487fd3a4810f86f7f",
       "version_major": 2,
       "version_minor": 0
      },
      "text/plain": [
       "HBox(children=(IntProgress(value=0, max=3089), HTML(value='')))"
      ]
     },
     "metadata": {
      "tags": []
     },
     "output_type": "display_data"
    },
    {
     "name": "stdout",
     "output_type": "stream",
     "text": [
      "\n"
     ]
    },
    {
     "name": "stderr",
     "output_type": "stream",
     "text": [
      "IOPub data rate exceeded.\n",
      "The notebook server will temporarily stop sending output\n",
      "to the client in order to avoid crashing it.\n",
      "To change this limit, set the config variable\n",
      "`--NotebookApp.iopub_data_rate_limit`.\n",
      "\n",
      "Current values:\n",
      "NotebookApp.iopub_data_rate_limit=1000000.0 (bytes/sec)\n",
      "NotebookApp.rate_limit_window=3.0 (secs)\n",
      "\n"
     ]
    }
   ],
   "source": [
    "predictions, raw_outputs = xlnet.predict(test_df['text'])\n",
    "print(predictions)\n",
    "print(raw_outputs)"
   ]
  },
  {
   "cell_type": "code",
   "execution_count": 0,
   "metadata": {
    "colab": {},
    "colab_type": "code",
    "id": "gE2Y2WVprzZN"
   },
   "outputs": [],
   "source": [
    "#sub_df = pd.DataFrame(raw_outputs, columns=[\"Class 173\", \"Class 215\", \"Class 189\", \"Class 192\", \"Class 206\", \"Class 108\", \"Class 209\", \"Class 174\", \"Class 148\", \"Class 212\", \"Class 160\", \"Class 74\", \"Class 57\", \"Class 86\", \"Class 168\", \"Class 175\", \"Class 161\", \"Class 223\", \"Class 64\", \"Class 126\", \"Class 185\", \"Class 225\", \"Class 75\", \"Class 216\", \"Class 217\", \"Class 109\", \"Class 82\", \"Class 61\", \"Class 107\", \"Class 158\", \"Class 59\", \"Class 105\", \"Class 73\", \"Class 117\", \"Class 84\", \"Class 179\", \"Class 199\", \"Class 78\", \"Class 178\", \"Class 201\", \"Class 50\", \"Class 200\", \"Class 234\", \"Class 131\", \"Class 133\", \"Class 135\", \"Class 203\", \"Class 139\", \"Class 222\", \"Class 99\", \"Class 171\", \"Class 210\", \"Class 193\", \"Class 208\", \"Class 198\", \"Class 183\", \"Class 227\", \"Class 202\", \"Class 93\", \"Class 72\", \"Class 157\", \"Class 63\", \"Class 112\", \"Class 37\", \"Class 142\", \"Class 213\", \"Class 48\", \"Class 122\", \"Class 149\", \"Class 55\", \"Class 67\", \"Class 41\", \"Class 68\", \"Class 95\", \"Class 165\", \"Class 66\", \"Class 81\", \"Class 52\", \"Class 128\", \"Class 220\", \"Class 136\", \"Class 54\", \"Class 49\", \"Class 60\", \"Class 103\", \"Class 155\", \"Class 101\", \"Class 191\", \"Class 70\", \"Class 129\", \"Class 207\", \"Class 170\", \"Class 176\", \"Class 181\", \"Class 187\", \"Class 114\", \"Class 137\", \"Class 134\", \"Class 110\", \"Class 56\", \"Class 44\", \"Class 214\", \"Class 43\", \"Class 169\", \"Class 90\", \"Class 145\", \"Class 120\", \"Class 163\", \"Class 102\", \"Class 153\", \"Class 180\", \"Class 194\", \"Class 197\", \"Class 98\", \"Class 123\", \"Class 182\", \"Class 62\", \"Class 233\", \"Class 80\", \"Class 96\", \"Class 42\", \"Class 230\", \"Class 119\", \"Class 92\", \"Class 152\", \"Class 65\", \"Class 231\", \"Class 51\", \"Class 186\", \"Class 224\", \"Class 147\", \"Class 121\", \"Class 229\", \"Class 140\", \"Class 172\", \"Class 219\", \"Class 79\", \"Class 196\", \"Class 127\", \"Class 154\", \"Class 83\", \"Class 106\", \"Class 156\", \"Class 104\", \"Class 146\", \"Class 143\", \"Class 116\", \"Class 77\", \"Class 58\", \"Class 150\", \"Class 38\", \"Class 167\", \"Class 218\", \"Class 91\", \"Class 141\", \"Class 232\", \"Class 71\", \"Class 115\", \"Class 76\", \"Class 138\", \"Class 97\", \"Class 113\", \"Class 118\", \"Class 47\", \"Class 69\", \"Class 87\", \"Class 40\", \"Class 228\", \"Class 184\", \"Class 162\", \"Class 144\", \"Class 39\", \"Class 45\", \"Class 226\", \"Class 211\", \"Class 88\", \"Class 195\", \"Class 151\", \"Class 132\", \"Class 188\", \"Class 89\", \"Class 166\", \"Class 94\", \"Class 164\", \"Class 130\", \"Class 204\", \"Class 177\", \"Class 125\", \"Class 190\", \"Class 159\", \"Class 100\", \"Class 53\", \"Class 111\", \"Class 85\", \"Class 124\", \"Class 221\", \"Class 46\", \"Class 205\"])\n",
    "\n",
    "#sub_df = pd.DataFrame(raw_outputs, columns=['NEUTRAL', 'LIKE', 'IMPROVEMENT'])"
   ]
  },
  {
   "cell_type": "code",
   "execution_count": 0,
   "metadata": {
    "colab": {},
    "colab_type": "code",
    "id": "oE76YG8Arw5-"
   },
   "outputs": [],
   "source": [
    "sub_df['id'] = test_df['id']\n",
    "#sub_df = sub_df[['NEUTRAL', 'LIKE', 'IMPROVEMENT']]\n",
    "#sub_df = sub_df[[\"Class 173\", \"Class 215\", \"Class 189\", \"Class 192\", \"Class 206\", \"Class 108\", \"Class 209\", \"Class 174\", \"Class 148\", \"Class 212\", \"Class 160\", \"Class 74\", \"Class 57\", \"Class 86\", \"Class 168\", \"Class 175\", \"Class 161\", \"Class 223\", \"Class 64\", \"Class 126\", \"Class 185\", \"Class 225\", \"Class 75\", \"Class 216\", \"Class 217\", \"Class 109\", \"Class 82\", \"Class 61\", \"Class 107\", \"Class 158\", \"Class 59\", \"Class 105\", \"Class 73\", \"Class 117\", \"Class 84\", \"Class 179\", \"Class 199\", \"Class 78\", \"Class 178\", \"Class 201\", \"Class 50\", \"Class 200\", \"Class 234\", \"Class 131\", \"Class 133\", \"Class 135\", \"Class 203\", \"Class 139\", \"Class 222\", \"Class 99\", \"Class 171\", \"Class 210\", \"Class 193\", \"Class 208\", \"Class 198\", \"Class 183\", \"Class 227\", \"Class 202\", \"Class 93\", \"Class 72\", \"Class 157\", \"Class 63\", \"Class 112\", \"Class 37\", \"Class 142\", \"Class 213\", \"Class 48\", \"Class 122\", \"Class 149\", \"Class 55\", \"Class 67\", \"Class 41\", \"Class 68\", \"Class 95\", \"Class 165\", \"Class 66\", \"Class 81\", \"Class 52\", \"Class 128\", \"Class 220\", \"Class 136\", \"Class 54\", \"Class 49\", \"Class 60\", \"Class 103\", \"Class 155\", \"Class 101\", \"Class 191\", \"Class 70\", \"Class 129\", \"Class 207\", \"Class 170\", \"Class 176\", \"Class 181\", \"Class 187\", \"Class 114\", \"Class 137\", \"Class 134\", \"Class 110\", \"Class 56\", \"Class 44\", \"Class 214\", \"Class 43\", \"Class 169\", \"Class 90\", \"Class 145\", \"Class 120\", \"Class 163\", \"Class 102\", \"Class 153\", \"Class 180\", \"Class 194\", \"Class 197\", \"Class 98\", \"Class 123\", \"Class 182\", \"Class 62\", \"Class 233\", \"Class 80\", \"Class 96\", \"Class 42\", \"Class 230\", \"Class 119\", \"Class 92\", \"Class 152\", \"Class 65\", \"Class 231\", \"Class 51\", \"Class 186\", \"Class 224\", \"Class 147\", \"Class 121\", \"Class 229\", \"Class 140\", \"Class 172\", \"Class 219\", \"Class 79\", \"Class 196\", \"Class 127\", \"Class 154\", \"Class 83\", \"Class 106\", \"Class 156\", \"Class 104\", \"Class 146\", \"Class 143\", \"Class 116\", \"Class 77\", \"Class 58\", \"Class 150\", \"Class 38\", \"Class 167\", \"Class 218\", \"Class 91\", \"Class 141\", \"Class 232\", \"Class 71\", \"Class 115\", \"Class 76\", \"Class 138\", \"Class 97\", \"Class 113\", \"Class 118\", \"Class 47\", \"Class 69\", \"Class 87\", \"Class 40\", \"Class 228\", \"Class 184\", \"Class 162\", \"Class 144\", \"Class 39\", \"Class 45\", \"Class 226\", \"Class 211\", \"Class 88\", \"Class 195\", \"Class 151\", \"Class 132\", \"Class 188\", \"Class 89\", \"Class 166\", \"Class 94\", \"Class 164\", \"Class 130\", \"Class 204\", \"Class 177\", \"Class 125\", \"Class 190\", \"Class 159\", \"Class 100\", \"Class 53\", \"Class 111\", \"Class 85\", \"Class 124\", \"Class 221\", \"Class 46\", \"Class 205\"]]"
   ]
  },
  {
   "cell_type": "code",
   "execution_count": 0,
   "metadata": {
    "colab": {},
    "colab_type": "code",
    "id": "jOvqQ4wzrwvY"
   },
   "outputs": [],
   "source": [
    "sub_df.to_csv('bert_5.csv', index=False)"
   ]
  },
  {
   "cell_type": "markdown",
   "metadata": {
    "colab_type": "text",
    "id": "IMDRukM0PsUI"
   },
   "source": [
    "**Calculating Accuracy**"
   ]
  },
  {
   "cell_type": "code",
   "execution_count": 0,
   "metadata": {
    "colab": {},
    "colab_type": "code",
    "id": "fWfMOMumPriY"
   },
   "outputs": [],
   "source": [
    "from sklearn.metrics import accuracy_score, f1_score, classification_report, fbeta_score, precision_score, zero_one_loss, hamming_loss, make_scorer, roc_auc_score, average_precision_score, jaccard_similarity_score, log_loss, precision_recall_fscore_support, recall_score\n",
    "from sklearn.metrics import coverage_error, label_ranking_average_precision_score, label_ranking_loss "
   ]
  },
  {
   "cell_type": "code",
   "execution_count": 0,
   "metadata": {
    "colab": {},
    "colab_type": "code",
    "id": "lLhuv2IFrwsK"
   },
   "outputs": [],
   "source": [
    "actual = pd.read_csv('/content/drive/My Drive/bert/bert_actual_latest.csv', encoding='ISO-8859-1')\n",
    "#actual = actual.sample(n=5000, random_state=23)"
   ]
  },
  {
   "cell_type": "code",
   "execution_count": 0,
   "metadata": {
    "colab": {},
    "colab_type": "code",
    "id": "2_qNGSstNIZg"
   },
   "outputs": [],
   "source": [
    "neutral = pd.read_csv('/content/drive/My Drive/bert/neutral_bert_latest.csv')"
   ]
  },
  {
   "cell_type": "code",
   "execution_count": 0,
   "metadata": {
    "colab": {},
    "colab_type": "code",
    "id": "7uQ_EcbGOPHY"
   },
   "outputs": [],
   "source": [
    "actual = actual.drop(['id', 'Verbatim Response'],axis=1)"
   ]
  },
  {
   "cell_type": "code",
   "execution_count": 0,
   "metadata": {
    "colab": {},
    "colab_type": "code",
    "id": "ljnZtmfzOUsS"
   },
   "outputs": [],
   "source": [
    "predicted = sub_df.copy()"
   ]
  },
  {
   "cell_type": "code",
   "execution_count": 0,
   "metadata": {
    "colab": {},
    "colab_type": "code",
    "id": "1WFLFIuAPbGq"
   },
   "outputs": [],
   "source": [
    "predicted_xlnet = pd.read_csv('/content/drive/My Drive/xlnet/roberta_10.csv')\n",
    "predicted_xlnet = predicted_xlnet.drop(['id'], axis=1)"
   ]
  },
  {
   "cell_type": "code",
   "execution_count": 0,
   "metadata": {
    "colab": {},
    "colab_type": "code",
    "id": "2DVWlYRp-Wa0"
   },
   "outputs": [],
   "source": [
    "predicted_roberta = pd.read_csv('/content/drive/My Drive/xlnet/xlnet_5.csv')\n",
    "predicted_roberta = predicted_roberta.drop(['id'], axis=1)"
   ]
  },
  {
   "cell_type": "code",
   "execution_count": 0,
   "metadata": {
    "colab": {},
    "colab_type": "code",
    "id": "-bTPKwSFOlWU"
   },
   "outputs": [],
   "source": [
    "predicted_bert = pd.read_csv('/content/drive/My Drive/bert_model/bert_5.csv')\n",
    "predicted_bert = predicted_bert.drop(['id'], axis=1)"
   ]
  },
  {
   "cell_type": "code",
   "execution_count": 0,
   "metadata": {
    "colab": {},
    "colab_type": "code",
    "id": "tBDJRPHnOVF_"
   },
   "outputs": [],
   "source": [
    "#### Getting Best Threshold ###\n",
    "#import numpy as np\n",
    "#from scipy import optimize\n",
    "#def thr_to_accuracy(thr, Y_test, predictions):\n",
    "#   return -accuracy_score(Y_test, np.array(predictions>thr, dtype=np.int))\n",
    "\n",
    "#best_thr = optimize.fmin(thr_to_accuracy, args=(np.array(actual), np.array(predicted)), x0=0.5)"
   ]
  },
  {
   "cell_type": "code",
   "execution_count": 0,
   "metadata": {
    "colab": {},
    "colab_type": "code",
    "id": "3ocbLOklPNdp"
   },
   "outputs": [],
   "source": [
    "import numpy as np"
   ]
  },
  {
   "cell_type": "code",
   "execution_count": 0,
   "metadata": {
    "colab": {},
    "colab_type": "code",
    "id": "aROKb5hIZ0Ec"
   },
   "outputs": [],
   "source": [
    "predicted = predicted.drop(['id'], axis=1)"
   ]
  },
  {
   "cell_type": "code",
   "execution_count": 0,
   "metadata": {
    "colab": {},
    "colab_type": "code",
    "id": "HyR7-ZPGOYi3"
   },
   "outputs": [],
   "source": [
    "### Setting Best Threshold ###\n",
    "def threshold(row):\n",
    "        if row > 0.50:\n",
    "            row = 1\n",
    "        else:\n",
    "            row= 0\n",
    "        return row\n",
    "    \n",
    "for i in range(0,196):\n",
    "    predicted_roberta.iloc[:,i] = predicted.iloc[:,i].apply(threshold)\n",
    "    predicted_bert.iloc[:,i] = predicted.iloc[:,i].apply(threshold)\n",
    "    predicted_xlnet.iloc[:,i] = predicted.iloc[:,i].apply(threshold)"
   ]
  },
  {
   "cell_type": "code",
   "execution_count": 0,
   "metadata": {
    "colab": {},
    "colab_type": "code",
    "id": "cFOSIgJgQGXj"
   },
   "outputs": [],
   "source": [
    "x = predicted_xlnet.values\n",
    "y = predicted_roberta.values\n",
    "z = predicted_bert.values"
   ]
  },
  {
   "cell_type": "code",
   "execution_count": 0,
   "metadata": {
    "colab": {
     "base_uri": "https://localhost:8080/",
     "height": 136
    },
    "colab_type": "code",
    "id": "VfpEeMLZQb7M",
    "outputId": "d3d651e4-e658-427c-978b-63aba7429f9a"
   },
   "outputs": [
    {
     "data": {
      "text/plain": [
       "array([[0, 0, 0, ..., 0, 0, 0],\n",
       "       [0, 0, 0, ..., 0, 0, 0],\n",
       "       [0, 0, 0, ..., 0, 0, 0],\n",
       "       ...,\n",
       "       [0, 0, 0, ..., 0, 0, 0],\n",
       "       [0, 0, 0, ..., 0, 0, 0],\n",
       "       [0, 0, 0, ..., 0, 0, 0]])"
      ]
     },
     "execution_count": 60,
     "metadata": {
      "tags": []
     },
     "output_type": "execute_result"
    }
   ],
   "source": [
    "a = np.add(x,y,z)\n",
    "a"
   ]
  },
  {
   "cell_type": "code",
   "execution_count": 0,
   "metadata": {
    "colab": {},
    "colab_type": "code",
    "id": "bXfDcGJaRV2l"
   },
   "outputs": [],
   "source": [
    "a = a > 1"
   ]
  },
  {
   "cell_type": "code",
   "execution_count": 0,
   "metadata": {
    "colab": {},
    "colab_type": "code",
    "id": "yRp_cxSkSCzv"
   },
   "outputs": [],
   "source": [
    "a = a.astype(int)"
   ]
  },
  {
   "cell_type": "code",
   "execution_count": 0,
   "metadata": {
    "colab": {
     "base_uri": "https://localhost:8080/",
     "height": 68
    },
    "colab_type": "code",
    "id": "kYsD1sYyQQUI",
    "outputId": "54e8172d-3f06-44ea-8421-c756f9d2cd9b"
   },
   "outputs": [
    {
     "name": "stdout",
     "output_type": "stream",
     "text": [
      "Accuracy: 0.37686144383295567\n",
      "Hamming Loss: 0.005216419685387914\n",
      "f1_score 0.6357686541344711\n"
     ]
    }
   ],
   "source": [
    "print(\"Accuracy:\", accuracy_score(actual, predicted))\n",
    "print(\"Hamming Loss:\", hamming_loss(actual, predicted))\n",
    "print(\"f1_score\", f1_score(actual, predicted, average = 'micro'))"
   ]
  },
  {
   "cell_type": "code",
   "execution_count": 0,
   "metadata": {
    "colab": {
     "base_uri": "https://localhost:8080/",
     "height": 153
    },
    "colab_type": "code",
    "id": "whVg8W5GOZPW",
    "outputId": "bf8fc0e8-df61-4521-c4a8-b7d6d6d83451"
   },
   "outputs": [
    {
     "name": "stderr",
     "output_type": "stream",
     "text": [
      "/usr/local/lib/python3.6/dist-packages/ipykernel_launcher.py:6: FutureWarning: \n",
      ".ix is deprecated. Please use\n",
      ".loc for label based indexing or\n",
      ".iloc for positional indexing\n",
      "\n",
      "See the documentation here:\n",
      "http://pandas.pydata.org/pandas-docs/stable/user_guide/indexing.html#ix-indexer-is-deprecated\n",
      "  \n"
     ]
    }
   ],
   "source": [
    "#### Adding Neutral #########\n",
    "neutral_og = neutral.copy()\n",
    "neutral = neutral_og.copy()\n",
    "predict = predicted.copy()\n",
    "predicted = predicted[(predicted.T != 0).any()]\n",
    "actual_new = actual.reset_index(drop=True).copy()\n",
    "actual_new = actual_new.ix[list(predicted.index)]\n",
    "neutral = neutral.drop(['id', 'Verbatim Response'], axis=1)\n",
    "predicted = pd.concat([predicted,neutral], axis=0)\n",
    "actual_new = pd.concat([actual_new,neutral], axis=0)\n",
    "actual = actual_new.copy()"
   ]
  },
  {
   "cell_type": "code",
   "execution_count": 0,
   "metadata": {
    "colab": {},
    "colab_type": "code",
    "id": "qq42BSrIOzrY"
   },
   "outputs": [],
   "source": [
    "import pandas as pd\n",
    "import numpy as np\n",
    "from sklearn.metrics import accuracy_score, f1_score, classification_report, fbeta_score, precision_score, zero_one_loss, hamming_loss, make_scorer, roc_auc_score, average_precision_score, jaccard_similarity_score, log_loss, precision_recall_fscore_support, recall_score\n",
    "from sklearn.metrics import coverage_error, label_ranking_average_precision_score, label_ranking_loss \n",
    "def hamming_score(y_true, y_pred, normalize=True, sample_weight=None):\n",
    "    '''\n",
    "    Compute the Hamming score (a.k.a. label-based accuracy) for the multi-label case\n",
    "    https://stackoverflow.com/q/32239577/395857\n",
    "    '''\n",
    "    acc_list = []\n",
    "    for i in range(y_true.shape[0]):\n",
    "        set_true = set( np.where(y_true[i])[0] )\n",
    "        set_pred = set( np.where(y_pred[i])[0] )\n",
    "        #print('\\nset_true: {0}'.format(set_true))\n",
    "        #print('set_pred: {0}'.format(set_pred))\n",
    "        tmp_a = None\n",
    "        if len(set_true) == 0 and len(set_pred) == 0:\n",
    "            tmp_a = 1\n",
    "        else:\n",
    "            tmp_a = len(set_true.intersection(set_pred))/\\\n",
    "                    float( len(set_true.union(set_pred)) )\n",
    "        #print('tmp_a: {0}'.format(tmp_a))\n",
    "        acc_list.append(tmp_a)\n",
    "    return np.mean(acc_list)\n",
    "\n",
    "def print_accuracy_score_train(y_pred):\n",
    "    print(\"Hamming score: {}\".format(hamming_score(y_train, y_pred)))\n",
    "    print('Hamming loss: {0}'.format(hamming_loss(y_train, y_pred))) \n",
    "    print(\"Accuracy Score: {}\".format(accuracy_score(y_train, y_pred, normalize=True, sample_weight=None)))\n",
    "\n",
    "def print_accuracy_score_test(y_pred):\n",
    "    print(\"Hamming score: {}\".format(hamming_score(actual, y_pred)))\n",
    "    print('Hamming loss: {0}'.format(hamming_loss(actual, y_pred))) \n",
    "    print(\"Accuracy Score: {}\".format(accuracy_score(actual, y_pred, normalize=True, sample_weight=None)))\n",
    "    print(\"Precision Score: {}\".format(precision_score(actual, y_pred, average = 'micro')))\n",
    "    print(\"Recall Score: {}\".format(recall_score(actual, y_pred, average = 'micro')))\n",
    "    print(\"F1 Score: {}\".format(f1_score(actual, y_pred, average = 'micro')))"
   ]
  },
  {
   "cell_type": "code",
   "execution_count": 0,
   "metadata": {
    "colab": {},
    "colab_type": "code",
    "id": "sphEDoqmPiow"
   },
   "outputs": [],
   "source": [
    "#print_accuracy_score_train(predicted_train)\n",
    "print_accuracy_score_test(predicted.values)"
   ]
  }
 ],
 "metadata": {
  "accelerator": "GPU",
  "colab": {
   "collapsed_sections": [],
   "name": "XLNet/RoBerta Try",
   "provenance": []
  },
  "kernelspec": {
   "display_name": "Python 3",
   "language": "python",
   "name": "python3"
  },
  "language_info": {
   "codemirror_mode": {
    "name": "ipython",
    "version": 3
   },
   "file_extension": ".py",
   "mimetype": "text/x-python",
   "name": "python",
   "nbconvert_exporter": "python",
   "pygments_lexer": "ipython3",
   "version": "3.6.5"
  },
  "widgets": {
   "application/vnd.jupyter.widget-state+json": {
    "0046bbbdf5d541699abab50c15869b5e": {
     "model_module": "@jupyter-widgets/controls",
     "model_name": "DescriptionStyleModel",
     "state": {
      "_model_module": "@jupyter-widgets/controls",
      "_model_module_version": "1.5.0",
      "_model_name": "DescriptionStyleModel",
      "_view_count": null,
      "_view_module": "@jupyter-widgets/base",
      "_view_module_version": "1.2.0",
      "_view_name": "StyleView",
      "description_width": ""
     }
    },
    "064691d40fb947ce80ffdccc5b13d44b": {
     "model_module": "@jupyter-widgets/controls",
     "model_name": "HBoxModel",
     "state": {
      "_dom_classes": [],
      "_model_module": "@jupyter-widgets/controls",
      "_model_module_version": "1.5.0",
      "_model_name": "HBoxModel",
      "_view_count": null,
      "_view_module": "@jupyter-widgets/controls",
      "_view_module_version": "1.5.0",
      "_view_name": "HBoxView",
      "box_style": "",
      "children": [
       "IPY_MODEL_fa0971d7fa8843578406f3dd8edd9a7e",
       "IPY_MODEL_1ede71b721d246e784dbb74e41a1eab3"
      ],
      "layout": "IPY_MODEL_083c5de0c88249289198444de4430dd1"
     }
    },
    "083c5de0c88249289198444de4430dd1": {
     "model_module": "@jupyter-widgets/base",
     "model_name": "LayoutModel",
     "state": {
      "_model_module": "@jupyter-widgets/base",
      "_model_module_version": "1.2.0",
      "_model_name": "LayoutModel",
      "_view_count": null,
      "_view_module": "@jupyter-widgets/base",
      "_view_module_version": "1.2.0",
      "_view_name": "LayoutView",
      "align_content": null,
      "align_items": null,
      "align_self": null,
      "border": null,
      "bottom": null,
      "display": null,
      "flex": null,
      "flex_flow": null,
      "grid_area": null,
      "grid_auto_columns": null,
      "grid_auto_flow": null,
      "grid_auto_rows": null,
      "grid_column": null,
      "grid_gap": null,
      "grid_row": null,
      "grid_template_areas": null,
      "grid_template_columns": null,
      "grid_template_rows": null,
      "height": null,
      "justify_content": null,
      "justify_items": null,
      "left": null,
      "margin": null,
      "max_height": null,
      "max_width": null,
      "min_height": null,
      "min_width": null,
      "object_fit": null,
      "object_position": null,
      "order": null,
      "overflow": null,
      "overflow_x": null,
      "overflow_y": null,
      "padding": null,
      "right": null,
      "top": null,
      "visibility": null,
      "width": null
     }
    },
    "08c5a1b98b144a529db43a1d8a65293e": {
     "model_module": "@jupyter-widgets/controls",
     "model_name": "HTMLModel",
     "state": {
      "_dom_classes": [],
      "_model_module": "@jupyter-widgets/controls",
      "_model_module_version": "1.5.0",
      "_model_name": "HTMLModel",
      "_view_count": null,
      "_view_module": "@jupyter-widgets/controls",
      "_view_module_version": "1.5.0",
      "_view_name": "HTMLView",
      "description": "",
      "description_tooltip": null,
      "layout": "IPY_MODEL_6674c1eca7d54eefa1e7a0cde2eeecf7",
      "placeholder": "​",
      "style": "IPY_MODEL_e3db719c693246c7874ea9e61338b392",
      "value": "100% 34252/34252 [00:09&lt;00:00, 3656.86it/s]"
     }
    },
    "0f576027f8c04b8f86bc7f9c6076d685": {
     "model_module": "@jupyter-widgets/controls",
     "model_name": "ProgressStyleModel",
     "state": {
      "_model_module": "@jupyter-widgets/controls",
      "_model_module_version": "1.5.0",
      "_model_name": "ProgressStyleModel",
      "_view_count": null,
      "_view_module": "@jupyter-widgets/base",
      "_view_module_version": "1.2.0",
      "_view_name": "StyleView",
      "bar_color": null,
      "description_width": "initial"
     }
    },
    "1e490a4dc44d40aaab097400935421c7": {
     "model_module": "@jupyter-widgets/controls",
     "model_name": "HTMLModel",
     "state": {
      "_dom_classes": [],
      "_model_module": "@jupyter-widgets/controls",
      "_model_module_version": "1.5.0",
      "_model_name": "HTMLModel",
      "_view_count": null,
      "_view_module": "@jupyter-widgets/controls",
      "_view_module_version": "1.5.0",
      "_view_name": "HTMLView",
      "description": "",
      "description_tooltip": null,
      "layout": "IPY_MODEL_894c4e386a92402a9f9d5c734d041cd4",
      "placeholder": "​",
      "style": "IPY_MODEL_95b4310b075f47269a7b3d4a0cf4a70a",
      "value": "100% 24712/24712 [00:05&lt;00:00, 4167.76it/s]"
     }
    },
    "1ede71b721d246e784dbb74e41a1eab3": {
     "model_module": "@jupyter-widgets/controls",
     "model_name": "HTMLModel",
     "state": {
      "_dom_classes": [],
      "_model_module": "@jupyter-widgets/controls",
      "_model_module_version": "1.5.0",
      "_model_name": "HTMLModel",
      "_view_count": null,
      "_view_module": "@jupyter-widgets/controls",
      "_view_module_version": "1.5.0",
      "_view_name": "HTMLView",
      "description": "",
      "description_tooltip": null,
      "layout": "IPY_MODEL_afefa094c2694917ab8fb7f9f44d182e",
      "placeholder": "​",
      "style": "IPY_MODEL_a0fc63e03f8b46cc9cbf8f706e1c74b6",
      "value": " 10% 1/10 [24:03&lt;3:36:27, 1443.03s/it]"
     }
    },
    "333571fac1d34ab4bc2bb601f19edacb": {
     "model_module": "@jupyter-widgets/controls",
     "model_name": "HTMLModel",
     "state": {
      "_dom_classes": [],
      "_model_module": "@jupyter-widgets/controls",
      "_model_module_version": "1.5.0",
      "_model_name": "HTMLModel",
      "_view_count": null,
      "_view_module": "@jupyter-widgets/controls",
      "_view_module_version": "1.5.0",
      "_view_name": "HTMLView",
      "description": "",
      "description_tooltip": null,
      "layout": "IPY_MODEL_4050395445d04552b8023143f7a5f6f0",
      "placeholder": "​",
      "style": "IPY_MODEL_52af4c7e92774161828539aa6804ecd4",
      "value": "100% 137007/137007 [00:37&lt;00:00, 3652.51it/s]"
     }
    },
    "3426a0fb2b9545b09ced179ecbfc7837": {
     "model_module": "@jupyter-widgets/base",
     "model_name": "LayoutModel",
     "state": {
      "_model_module": "@jupyter-widgets/base",
      "_model_module_version": "1.2.0",
      "_model_name": "LayoutModel",
      "_view_count": null,
      "_view_module": "@jupyter-widgets/base",
      "_view_module_version": "1.2.0",
      "_view_name": "LayoutView",
      "align_content": null,
      "align_items": null,
      "align_self": null,
      "border": null,
      "bottom": null,
      "display": null,
      "flex": null,
      "flex_flow": null,
      "grid_area": null,
      "grid_auto_columns": null,
      "grid_auto_flow": null,
      "grid_auto_rows": null,
      "grid_column": null,
      "grid_gap": null,
      "grid_row": null,
      "grid_template_areas": null,
      "grid_template_columns": null,
      "grid_template_rows": null,
      "height": null,
      "justify_content": null,
      "justify_items": null,
      "left": null,
      "margin": null,
      "max_height": null,
      "max_width": null,
      "min_height": null,
      "min_width": null,
      "object_fit": null,
      "object_position": null,
      "order": null,
      "overflow": null,
      "overflow_x": null,
      "overflow_y": null,
      "padding": null,
      "right": null,
      "top": null,
      "visibility": null,
      "width": null
     }
    },
    "3899788f5dd948a782e159e38d7fd90f": {
     "model_module": "@jupyter-widgets/controls",
     "model_name": "HBoxModel",
     "state": {
      "_dom_classes": [],
      "_model_module": "@jupyter-widgets/controls",
      "_model_module_version": "1.5.0",
      "_model_name": "HBoxModel",
      "_view_count": null,
      "_view_module": "@jupyter-widgets/controls",
      "_view_module_version": "1.5.0",
      "_view_name": "HBoxView",
      "box_style": "",
      "children": [
       "IPY_MODEL_8b1cd1fa5a7543aeb59a2920974f5d37",
       "IPY_MODEL_08c5a1b98b144a529db43a1d8a65293e"
      ],
      "layout": "IPY_MODEL_fecc218b12414aa5a220bcc25d520287"
     }
    },
    "4050395445d04552b8023143f7a5f6f0": {
     "model_module": "@jupyter-widgets/base",
     "model_name": "LayoutModel",
     "state": {
      "_model_module": "@jupyter-widgets/base",
      "_model_module_version": "1.2.0",
      "_model_name": "LayoutModel",
      "_view_count": null,
      "_view_module": "@jupyter-widgets/base",
      "_view_module_version": "1.2.0",
      "_view_name": "LayoutView",
      "align_content": null,
      "align_items": null,
      "align_self": null,
      "border": null,
      "bottom": null,
      "display": null,
      "flex": null,
      "flex_flow": null,
      "grid_area": null,
      "grid_auto_columns": null,
      "grid_auto_flow": null,
      "grid_auto_rows": null,
      "grid_column": null,
      "grid_gap": null,
      "grid_row": null,
      "grid_template_areas": null,
      "grid_template_columns": null,
      "grid_template_rows": null,
      "height": null,
      "justify_content": null,
      "justify_items": null,
      "left": null,
      "margin": null,
      "max_height": null,
      "max_width": null,
      "min_height": null,
      "min_width": null,
      "object_fit": null,
      "object_position": null,
      "order": null,
      "overflow": null,
      "overflow_x": null,
      "overflow_y": null,
      "padding": null,
      "right": null,
      "top": null,
      "visibility": null,
      "width": null
     }
    },
    "41604477b2c94a379e88dac9f64dfdd8": {
     "model_module": "@jupyter-widgets/controls",
     "model_name": "DescriptionStyleModel",
     "state": {
      "_model_module": "@jupyter-widgets/controls",
      "_model_module_version": "1.5.0",
      "_model_name": "DescriptionStyleModel",
      "_view_count": null,
      "_view_module": "@jupyter-widgets/base",
      "_view_module_version": "1.2.0",
      "_view_name": "StyleView",
      "description_width": ""
     }
    },
    "432773fcf60e467ebd98b21e6b239fb6": {
     "model_module": "@jupyter-widgets/controls",
     "model_name": "ProgressStyleModel",
     "state": {
      "_model_module": "@jupyter-widgets/controls",
      "_model_module_version": "1.5.0",
      "_model_name": "ProgressStyleModel",
      "_view_count": null,
      "_view_module": "@jupyter-widgets/base",
      "_view_module_version": "1.2.0",
      "_view_name": "StyleView",
      "bar_color": null,
      "description_width": ""
     }
    },
    "439b8d2e60fe4f65a97863a125ffeed8": {
     "model_module": "@jupyter-widgets/base",
     "model_name": "LayoutModel",
     "state": {
      "_model_module": "@jupyter-widgets/base",
      "_model_module_version": "1.2.0",
      "_model_name": "LayoutModel",
      "_view_count": null,
      "_view_module": "@jupyter-widgets/base",
      "_view_module_version": "1.2.0",
      "_view_name": "LayoutView",
      "align_content": null,
      "align_items": null,
      "align_self": null,
      "border": null,
      "bottom": null,
      "display": null,
      "flex": null,
      "flex_flow": null,
      "grid_area": null,
      "grid_auto_columns": null,
      "grid_auto_flow": null,
      "grid_auto_rows": null,
      "grid_column": null,
      "grid_gap": null,
      "grid_row": null,
      "grid_template_areas": null,
      "grid_template_columns": null,
      "grid_template_rows": null,
      "height": null,
      "justify_content": null,
      "justify_items": null,
      "left": null,
      "margin": null,
      "max_height": null,
      "max_width": null,
      "min_height": null,
      "min_width": null,
      "object_fit": null,
      "object_position": null,
      "order": null,
      "overflow": null,
      "overflow_x": null,
      "overflow_y": null,
      "padding": null,
      "right": null,
      "top": null,
      "visibility": null,
      "width": null
     }
    },
    "441ebe2aff8f4209a906d294fc83488f": {
     "model_module": "@jupyter-widgets/controls",
     "model_name": "IntProgressModel",
     "state": {
      "_dom_classes": [],
      "_model_module": "@jupyter-widgets/controls",
      "_model_module_version": "1.5.0",
      "_model_name": "IntProgressModel",
      "_view_count": null,
      "_view_module": "@jupyter-widgets/controls",
      "_view_module_version": "1.5.0",
      "_view_name": "ProgressView",
      "bar_style": "success",
      "description": "",
      "description_tooltip": null,
      "layout": "IPY_MODEL_7b3489c5975848d18326ecbe91b4c320",
      "max": 137007,
      "min": 0,
      "orientation": "horizontal",
      "style": "IPY_MODEL_459fa01d06c74af29b26507dd43b0d88",
      "value": 137007
     }
    },
    "458456ff5fdc4f538da0c5c2e8131cb7": {
     "model_module": "@jupyter-widgets/controls",
     "model_name": "IntProgressModel",
     "state": {
      "_dom_classes": [],
      "_model_module": "@jupyter-widgets/controls",
      "_model_module_version": "1.5.0",
      "_model_name": "IntProgressModel",
      "_view_count": null,
      "_view_module": "@jupyter-widgets/controls",
      "_view_module_version": "1.5.0",
      "_view_name": "ProgressView",
      "bar_style": "success",
      "description": "Current iteration",
      "description_tooltip": null,
      "layout": "IPY_MODEL_51ba83ecc01d451db727e3b8d500ae74",
      "max": 4282,
      "min": 0,
      "orientation": "horizontal",
      "style": "IPY_MODEL_c9c280f8eae44022899abb032ec43a39",
      "value": 4282
     }
    },
    "459fa01d06c74af29b26507dd43b0d88": {
     "model_module": "@jupyter-widgets/controls",
     "model_name": "ProgressStyleModel",
     "state": {
      "_model_module": "@jupyter-widgets/controls",
      "_model_module_version": "1.5.0",
      "_model_name": "ProgressStyleModel",
      "_view_count": null,
      "_view_module": "@jupyter-widgets/base",
      "_view_module_version": "1.2.0",
      "_view_name": "StyleView",
      "bar_color": null,
      "description_width": ""
     }
    },
    "4a1b8017c8584e1484f3290167c35595": {
     "model_module": "@jupyter-widgets/controls",
     "model_name": "ProgressStyleModel",
     "state": {
      "_model_module": "@jupyter-widgets/controls",
      "_model_module_version": "1.5.0",
      "_model_name": "ProgressStyleModel",
      "_view_count": null,
      "_view_module": "@jupyter-widgets/base",
      "_view_module_version": "1.2.0",
      "_view_name": "StyleView",
      "bar_color": null,
      "description_width": ""
     }
    },
    "519c6034cae54ba19e05d33ebf1ffa2a": {
     "model_module": "@jupyter-widgets/controls",
     "model_name": "HBoxModel",
     "state": {
      "_dom_classes": [],
      "_model_module": "@jupyter-widgets/controls",
      "_model_module_version": "1.5.0",
      "_model_name": "HBoxModel",
      "_view_count": null,
      "_view_module": "@jupyter-widgets/controls",
      "_view_module_version": "1.5.0",
      "_view_name": "HBoxView",
      "box_style": "",
      "children": [
       "IPY_MODEL_5e81de9459ff4d1b9b6f8eb337783154",
       "IPY_MODEL_5cfabdc2802549f8ae31251962d87ff6"
      ],
      "layout": "IPY_MODEL_744a7065a6ad49f9b849e257884089cc"
     }
    },
    "51ba83ecc01d451db727e3b8d500ae74": {
     "model_module": "@jupyter-widgets/base",
     "model_name": "LayoutModel",
     "state": {
      "_model_module": "@jupyter-widgets/base",
      "_model_module_version": "1.2.0",
      "_model_name": "LayoutModel",
      "_view_count": null,
      "_view_module": "@jupyter-widgets/base",
      "_view_module_version": "1.2.0",
      "_view_name": "LayoutView",
      "align_content": null,
      "align_items": null,
      "align_self": null,
      "border": null,
      "bottom": null,
      "display": null,
      "flex": null,
      "flex_flow": null,
      "grid_area": null,
      "grid_auto_columns": null,
      "grid_auto_flow": null,
      "grid_auto_rows": null,
      "grid_column": null,
      "grid_gap": null,
      "grid_row": null,
      "grid_template_areas": null,
      "grid_template_columns": null,
      "grid_template_rows": null,
      "height": null,
      "justify_content": null,
      "justify_items": null,
      "left": null,
      "margin": null,
      "max_height": null,
      "max_width": null,
      "min_height": null,
      "min_width": null,
      "object_fit": null,
      "object_position": null,
      "order": null,
      "overflow": null,
      "overflow_x": null,
      "overflow_y": null,
      "padding": null,
      "right": null,
      "top": null,
      "visibility": null,
      "width": null
     }
    },
    "52af4c7e92774161828539aa6804ecd4": {
     "model_module": "@jupyter-widgets/controls",
     "model_name": "DescriptionStyleModel",
     "state": {
      "_model_module": "@jupyter-widgets/controls",
      "_model_module_version": "1.5.0",
      "_model_name": "DescriptionStyleModel",
      "_view_count": null,
      "_view_module": "@jupyter-widgets/base",
      "_view_module_version": "1.2.0",
      "_view_name": "StyleView",
      "description_width": ""
     }
    },
    "58ed1e36a255430c802b4f242e3ed9ab": {
     "model_module": "@jupyter-widgets/controls",
     "model_name": "HBoxModel",
     "state": {
      "_dom_classes": [],
      "_model_module": "@jupyter-widgets/controls",
      "_model_module_version": "1.5.0",
      "_model_name": "HBoxModel",
      "_view_count": null,
      "_view_module": "@jupyter-widgets/controls",
      "_view_module_version": "1.5.0",
      "_view_name": "HBoxView",
      "box_style": "",
      "children": [
       "IPY_MODEL_458456ff5fdc4f538da0c5c2e8131cb7",
       "IPY_MODEL_ecad2789e81949d0a6bbdd1ddd8e1685"
      ],
      "layout": "IPY_MODEL_3426a0fb2b9545b09ced179ecbfc7837"
     }
    },
    "59a0564960ab40fba806c63304cc26a9": {
     "model_module": "@jupyter-widgets/base",
     "model_name": "LayoutModel",
     "state": {
      "_model_module": "@jupyter-widgets/base",
      "_model_module_version": "1.2.0",
      "_model_name": "LayoutModel",
      "_view_count": null,
      "_view_module": "@jupyter-widgets/base",
      "_view_module_version": "1.2.0",
      "_view_name": "LayoutView",
      "align_content": null,
      "align_items": null,
      "align_self": null,
      "border": null,
      "bottom": null,
      "display": null,
      "flex": null,
      "flex_flow": null,
      "grid_area": null,
      "grid_auto_columns": null,
      "grid_auto_flow": null,
      "grid_auto_rows": null,
      "grid_column": null,
      "grid_gap": null,
      "grid_row": null,
      "grid_template_areas": null,
      "grid_template_columns": null,
      "grid_template_rows": null,
      "height": null,
      "justify_content": null,
      "justify_items": null,
      "left": null,
      "margin": null,
      "max_height": null,
      "max_width": null,
      "min_height": null,
      "min_width": null,
      "object_fit": null,
      "object_position": null,
      "order": null,
      "overflow": null,
      "overflow_x": null,
      "overflow_y": null,
      "padding": null,
      "right": null,
      "top": null,
      "visibility": null,
      "width": null
     }
    },
    "5cfabdc2802549f8ae31251962d87ff6": {
     "model_module": "@jupyter-widgets/controls",
     "model_name": "HTMLModel",
     "state": {
      "_dom_classes": [],
      "_model_module": "@jupyter-widgets/controls",
      "_model_module_version": "1.5.0",
      "_model_name": "HTMLModel",
      "_view_count": null,
      "_view_module": "@jupyter-widgets/controls",
      "_view_module_version": "1.5.0",
      "_view_name": "HTMLView",
      "description": "",
      "description_tooltip": null,
      "layout": "IPY_MODEL_b88186e6056c4f75bf57028d3748e564",
      "placeholder": "​",
      "style": "IPY_MODEL_0046bbbdf5d541699abab50c15869b5e",
      "value": "100% 4282/4282 [03:23&lt;00:00, 20.99it/s]"
     }
    },
    "5e81de9459ff4d1b9b6f8eb337783154": {
     "model_module": "@jupyter-widgets/controls",
     "model_name": "IntProgressModel",
     "state": {
      "_dom_classes": [],
      "_model_module": "@jupyter-widgets/controls",
      "_model_module_version": "1.5.0",
      "_model_name": "IntProgressModel",
      "_view_count": null,
      "_view_module": "@jupyter-widgets/controls",
      "_view_module_version": "1.5.0",
      "_view_name": "ProgressView",
      "bar_style": "success",
      "description": "",
      "description_tooltip": null,
      "layout": "IPY_MODEL_ed96da96e5024f65bd8412f966b89ce6",
      "max": 4282,
      "min": 0,
      "orientation": "horizontal",
      "style": "IPY_MODEL_db7ddd893813493e8ab0248f3a97c49f",
      "value": 4282
     }
    },
    "5edb125df5a54e63bbd70612454be529": {
     "model_module": "@jupyter-widgets/base",
     "model_name": "LayoutModel",
     "state": {
      "_model_module": "@jupyter-widgets/base",
      "_model_module_version": "1.2.0",
      "_model_name": "LayoutModel",
      "_view_count": null,
      "_view_module": "@jupyter-widgets/base",
      "_view_module_version": "1.2.0",
      "_view_name": "LayoutView",
      "align_content": null,
      "align_items": null,
      "align_self": null,
      "border": null,
      "bottom": null,
      "display": null,
      "flex": null,
      "flex_flow": null,
      "grid_area": null,
      "grid_auto_columns": null,
      "grid_auto_flow": null,
      "grid_auto_rows": null,
      "grid_column": null,
      "grid_gap": null,
      "grid_row": null,
      "grid_template_areas": null,
      "grid_template_columns": null,
      "grid_template_rows": null,
      "height": null,
      "justify_content": null,
      "justify_items": null,
      "left": null,
      "margin": null,
      "max_height": null,
      "max_width": null,
      "min_height": null,
      "min_width": null,
      "object_fit": null,
      "object_position": null,
      "order": null,
      "overflow": null,
      "overflow_x": null,
      "overflow_y": null,
      "padding": null,
      "right": null,
      "top": null,
      "visibility": null,
      "width": null
     }
    },
    "60e78242ee834944935d64cc6aa6d341": {
     "model_module": "@jupyter-widgets/base",
     "model_name": "LayoutModel",
     "state": {
      "_model_module": "@jupyter-widgets/base",
      "_model_module_version": "1.2.0",
      "_model_name": "LayoutModel",
      "_view_count": null,
      "_view_module": "@jupyter-widgets/base",
      "_view_module_version": "1.2.0",
      "_view_name": "LayoutView",
      "align_content": null,
      "align_items": null,
      "align_self": null,
      "border": null,
      "bottom": null,
      "display": null,
      "flex": null,
      "flex_flow": null,
      "grid_area": null,
      "grid_auto_columns": null,
      "grid_auto_flow": null,
      "grid_auto_rows": null,
      "grid_column": null,
      "grid_gap": null,
      "grid_row": null,
      "grid_template_areas": null,
      "grid_template_columns": null,
      "grid_template_rows": null,
      "height": null,
      "justify_content": null,
      "justify_items": null,
      "left": null,
      "margin": null,
      "max_height": null,
      "max_width": null,
      "min_height": null,
      "min_width": null,
      "object_fit": null,
      "object_position": null,
      "order": null,
      "overflow": null,
      "overflow_x": null,
      "overflow_y": null,
      "padding": null,
      "right": null,
      "top": null,
      "visibility": null,
      "width": null
     }
    },
    "653e1c3c0a614c16a81e1725aa6d09ee": {
     "model_module": "@jupyter-widgets/base",
     "model_name": "LayoutModel",
     "state": {
      "_model_module": "@jupyter-widgets/base",
      "_model_module_version": "1.2.0",
      "_model_name": "LayoutModel",
      "_view_count": null,
      "_view_module": "@jupyter-widgets/base",
      "_view_module_version": "1.2.0",
      "_view_name": "LayoutView",
      "align_content": null,
      "align_items": null,
      "align_self": null,
      "border": null,
      "bottom": null,
      "display": null,
      "flex": null,
      "flex_flow": null,
      "grid_area": null,
      "grid_auto_columns": null,
      "grid_auto_flow": null,
      "grid_auto_rows": null,
      "grid_column": null,
      "grid_gap": null,
      "grid_row": null,
      "grid_template_areas": null,
      "grid_template_columns": null,
      "grid_template_rows": null,
      "height": null,
      "justify_content": null,
      "justify_items": null,
      "left": null,
      "margin": null,
      "max_height": null,
      "max_width": null,
      "min_height": null,
      "min_width": null,
      "object_fit": null,
      "object_position": null,
      "order": null,
      "overflow": null,
      "overflow_x": null,
      "overflow_y": null,
      "padding": null,
      "right": null,
      "top": null,
      "visibility": null,
      "width": null
     }
    },
    "65e8736f4f3f4555a6b5e470c1efe1a1": {
     "model_module": "@jupyter-widgets/controls",
     "model_name": "IntProgressModel",
     "state": {
      "_dom_classes": [],
      "_model_module": "@jupyter-widgets/controls",
      "_model_module_version": "1.5.0",
      "_model_name": "IntProgressModel",
      "_view_count": null,
      "_view_module": "@jupyter-widgets/controls",
      "_view_module_version": "1.5.0",
      "_view_name": "ProgressView",
      "bar_style": "success",
      "description": "",
      "description_tooltip": null,
      "layout": "IPY_MODEL_79985d2d103740f9bf298bdfd0b85040",
      "max": 3089,
      "min": 0,
      "orientation": "horizontal",
      "style": "IPY_MODEL_a4e84562022c41ac9612d818c2f36863",
      "value": 3089
     }
    },
    "6674c1eca7d54eefa1e7a0cde2eeecf7": {
     "model_module": "@jupyter-widgets/base",
     "model_name": "LayoutModel",
     "state": {
      "_model_module": "@jupyter-widgets/base",
      "_model_module_version": "1.2.0",
      "_model_name": "LayoutModel",
      "_view_count": null,
      "_view_module": "@jupyter-widgets/base",
      "_view_module_version": "1.2.0",
      "_view_name": "LayoutView",
      "align_content": null,
      "align_items": null,
      "align_self": null,
      "border": null,
      "bottom": null,
      "display": null,
      "flex": null,
      "flex_flow": null,
      "grid_area": null,
      "grid_auto_columns": null,
      "grid_auto_flow": null,
      "grid_auto_rows": null,
      "grid_column": null,
      "grid_gap": null,
      "grid_row": null,
      "grid_template_areas": null,
      "grid_template_columns": null,
      "grid_template_rows": null,
      "height": null,
      "justify_content": null,
      "justify_items": null,
      "left": null,
      "margin": null,
      "max_height": null,
      "max_width": null,
      "min_height": null,
      "min_width": null,
      "object_fit": null,
      "object_position": null,
      "order": null,
      "overflow": null,
      "overflow_x": null,
      "overflow_y": null,
      "padding": null,
      "right": null,
      "top": null,
      "visibility": null,
      "width": null
     }
    },
    "7406c9b7e4c949afbaa597885ac2e72c": {
     "model_module": "@jupyter-widgets/controls",
     "model_name": "ProgressStyleModel",
     "state": {
      "_model_module": "@jupyter-widgets/controls",
      "_model_module_version": "1.5.0",
      "_model_name": "ProgressStyleModel",
      "_view_count": null,
      "_view_module": "@jupyter-widgets/base",
      "_view_module_version": "1.2.0",
      "_view_name": "StyleView",
      "bar_color": null,
      "description_width": "initial"
     }
    },
    "744a7065a6ad49f9b849e257884089cc": {
     "model_module": "@jupyter-widgets/base",
     "model_name": "LayoutModel",
     "state": {
      "_model_module": "@jupyter-widgets/base",
      "_model_module_version": "1.2.0",
      "_model_name": "LayoutModel",
      "_view_count": null,
      "_view_module": "@jupyter-widgets/base",
      "_view_module_version": "1.2.0",
      "_view_name": "LayoutView",
      "align_content": null,
      "align_items": null,
      "align_self": null,
      "border": null,
      "bottom": null,
      "display": null,
      "flex": null,
      "flex_flow": null,
      "grid_area": null,
      "grid_auto_columns": null,
      "grid_auto_flow": null,
      "grid_auto_rows": null,
      "grid_column": null,
      "grid_gap": null,
      "grid_row": null,
      "grid_template_areas": null,
      "grid_template_columns": null,
      "grid_template_rows": null,
      "height": null,
      "justify_content": null,
      "justify_items": null,
      "left": null,
      "margin": null,
      "max_height": null,
      "max_width": null,
      "min_height": null,
      "min_width": null,
      "object_fit": null,
      "object_position": null,
      "order": null,
      "overflow": null,
      "overflow_x": null,
      "overflow_y": null,
      "padding": null,
      "right": null,
      "top": null,
      "visibility": null,
      "width": null
     }
    },
    "79985d2d103740f9bf298bdfd0b85040": {
     "model_module": "@jupyter-widgets/base",
     "model_name": "LayoutModel",
     "state": {
      "_model_module": "@jupyter-widgets/base",
      "_model_module_version": "1.2.0",
      "_model_name": "LayoutModel",
      "_view_count": null,
      "_view_module": "@jupyter-widgets/base",
      "_view_module_version": "1.2.0",
      "_view_name": "LayoutView",
      "align_content": null,
      "align_items": null,
      "align_self": null,
      "border": null,
      "bottom": null,
      "display": null,
      "flex": null,
      "flex_flow": null,
      "grid_area": null,
      "grid_auto_columns": null,
      "grid_auto_flow": null,
      "grid_auto_rows": null,
      "grid_column": null,
      "grid_gap": null,
      "grid_row": null,
      "grid_template_areas": null,
      "grid_template_columns": null,
      "grid_template_rows": null,
      "height": null,
      "justify_content": null,
      "justify_items": null,
      "left": null,
      "margin": null,
      "max_height": null,
      "max_width": null,
      "min_height": null,
      "min_width": null,
      "object_fit": null,
      "object_position": null,
      "order": null,
      "overflow": null,
      "overflow_x": null,
      "overflow_y": null,
      "padding": null,
      "right": null,
      "top": null,
      "visibility": null,
      "width": null
     }
    },
    "7b3489c5975848d18326ecbe91b4c320": {
     "model_module": "@jupyter-widgets/base",
     "model_name": "LayoutModel",
     "state": {
      "_model_module": "@jupyter-widgets/base",
      "_model_module_version": "1.2.0",
      "_model_name": "LayoutModel",
      "_view_count": null,
      "_view_module": "@jupyter-widgets/base",
      "_view_module_version": "1.2.0",
      "_view_name": "LayoutView",
      "align_content": null,
      "align_items": null,
      "align_self": null,
      "border": null,
      "bottom": null,
      "display": null,
      "flex": null,
      "flex_flow": null,
      "grid_area": null,
      "grid_auto_columns": null,
      "grid_auto_flow": null,
      "grid_auto_rows": null,
      "grid_column": null,
      "grid_gap": null,
      "grid_row": null,
      "grid_template_areas": null,
      "grid_template_columns": null,
      "grid_template_rows": null,
      "height": null,
      "justify_content": null,
      "justify_items": null,
      "left": null,
      "margin": null,
      "max_height": null,
      "max_width": null,
      "min_height": null,
      "min_width": null,
      "object_fit": null,
      "object_position": null,
      "order": null,
      "overflow": null,
      "overflow_x": null,
      "overflow_y": null,
      "padding": null,
      "right": null,
      "top": null,
      "visibility": null,
      "width": null
     }
    },
    "8900836eaa6846e29a5ae85f47efd409": {
     "model_module": "@jupyter-widgets/controls",
     "model_name": "HBoxModel",
     "state": {
      "_dom_classes": [],
      "_model_module": "@jupyter-widgets/controls",
      "_model_module_version": "1.5.0",
      "_model_name": "HBoxModel",
      "_view_count": null,
      "_view_module": "@jupyter-widgets/controls",
      "_view_module_version": "1.5.0",
      "_view_name": "HBoxView",
      "box_style": "",
      "children": [
       "IPY_MODEL_441ebe2aff8f4209a906d294fc83488f",
       "IPY_MODEL_333571fac1d34ab4bc2bb601f19edacb"
      ],
      "layout": "IPY_MODEL_b164f995a57d4816b65357aff3514633"
     }
    },
    "894c4e386a92402a9f9d5c734d041cd4": {
     "model_module": "@jupyter-widgets/base",
     "model_name": "LayoutModel",
     "state": {
      "_model_module": "@jupyter-widgets/base",
      "_model_module_version": "1.2.0",
      "_model_name": "LayoutModel",
      "_view_count": null,
      "_view_module": "@jupyter-widgets/base",
      "_view_module_version": "1.2.0",
      "_view_name": "LayoutView",
      "align_content": null,
      "align_items": null,
      "align_self": null,
      "border": null,
      "bottom": null,
      "display": null,
      "flex": null,
      "flex_flow": null,
      "grid_area": null,
      "grid_auto_columns": null,
      "grid_auto_flow": null,
      "grid_auto_rows": null,
      "grid_column": null,
      "grid_gap": null,
      "grid_row": null,
      "grid_template_areas": null,
      "grid_template_columns": null,
      "grid_template_rows": null,
      "height": null,
      "justify_content": null,
      "justify_items": null,
      "left": null,
      "margin": null,
      "max_height": null,
      "max_width": null,
      "min_height": null,
      "min_width": null,
      "object_fit": null,
      "object_position": null,
      "order": null,
      "overflow": null,
      "overflow_x": null,
      "overflow_y": null,
      "padding": null,
      "right": null,
      "top": null,
      "visibility": null,
      "width": null
     }
    },
    "8a2d25e703174b59a916c507c9fd08d3": {
     "model_module": "@jupyter-widgets/controls",
     "model_name": "HBoxModel",
     "state": {
      "_dom_classes": [],
      "_model_module": "@jupyter-widgets/controls",
      "_model_module_version": "1.5.0",
      "_model_name": "HBoxModel",
      "_view_count": null,
      "_view_module": "@jupyter-widgets/controls",
      "_view_module_version": "1.5.0",
      "_view_name": "HBoxView",
      "box_style": "",
      "children": [
       "IPY_MODEL_aa7c207258d04c6cb4d6596a96d0f12d",
       "IPY_MODEL_b8648122520444cfac8b4455c3e0b41e"
      ],
      "layout": "IPY_MODEL_60e78242ee834944935d64cc6aa6d341"
     }
    },
    "8b1cd1fa5a7543aeb59a2920974f5d37": {
     "model_module": "@jupyter-widgets/controls",
     "model_name": "IntProgressModel",
     "state": {
      "_dom_classes": [],
      "_model_module": "@jupyter-widgets/controls",
      "_model_module_version": "1.5.0",
      "_model_name": "IntProgressModel",
      "_view_count": null,
      "_view_module": "@jupyter-widgets/controls",
      "_view_module_version": "1.5.0",
      "_view_name": "ProgressView",
      "bar_style": "success",
      "description": "",
      "description_tooltip": null,
      "layout": "IPY_MODEL_b7fe871c7aa24f35976c9c61cc471afd",
      "max": 34252,
      "min": 0,
      "orientation": "horizontal",
      "style": "IPY_MODEL_4a1b8017c8584e1484f3290167c35595",
      "value": 34252
     }
    },
    "8edbf7942479466194d96cc4ac15b252": {
     "model_module": "@jupyter-widgets/controls",
     "model_name": "HBoxModel",
     "state": {
      "_dom_classes": [],
      "_model_module": "@jupyter-widgets/controls",
      "_model_module_version": "1.5.0",
      "_model_name": "HBoxModel",
      "_view_count": null,
      "_view_module": "@jupyter-widgets/controls",
      "_view_module_version": "1.5.0",
      "_view_name": "HBoxView",
      "box_style": "",
      "children": [
       "IPY_MODEL_f730e5bdd86f46af88cfdf5649af273a",
       "IPY_MODEL_1e490a4dc44d40aaab097400935421c7"
      ],
      "layout": "IPY_MODEL_5edb125df5a54e63bbd70612454be529"
     }
    },
    "927c9e2139204caab0154d20634c2be4": {
     "model_module": "@jupyter-widgets/controls",
     "model_name": "DescriptionStyleModel",
     "state": {
      "_model_module": "@jupyter-widgets/controls",
      "_model_module_version": "1.5.0",
      "_model_name": "DescriptionStyleModel",
      "_view_count": null,
      "_view_module": "@jupyter-widgets/base",
      "_view_module_version": "1.2.0",
      "_view_name": "StyleView",
      "description_width": ""
     }
    },
    "95b4310b075f47269a7b3d4a0cf4a70a": {
     "model_module": "@jupyter-widgets/controls",
     "model_name": "DescriptionStyleModel",
     "state": {
      "_model_module": "@jupyter-widgets/controls",
      "_model_module_version": "1.5.0",
      "_model_name": "DescriptionStyleModel",
      "_view_count": null,
      "_view_module": "@jupyter-widgets/base",
      "_view_module_version": "1.2.0",
      "_view_name": "StyleView",
      "description_width": ""
     }
    },
    "a05bd131a0a94fe7be08cce267360484": {
     "model_module": "@jupyter-widgets/base",
     "model_name": "LayoutModel",
     "state": {
      "_model_module": "@jupyter-widgets/base",
      "_model_module_version": "1.2.0",
      "_model_name": "LayoutModel",
      "_view_count": null,
      "_view_module": "@jupyter-widgets/base",
      "_view_module_version": "1.2.0",
      "_view_name": "LayoutView",
      "align_content": null,
      "align_items": null,
      "align_self": null,
      "border": null,
      "bottom": null,
      "display": null,
      "flex": null,
      "flex_flow": null,
      "grid_area": null,
      "grid_auto_columns": null,
      "grid_auto_flow": null,
      "grid_auto_rows": null,
      "grid_column": null,
      "grid_gap": null,
      "grid_row": null,
      "grid_template_areas": null,
      "grid_template_columns": null,
      "grid_template_rows": null,
      "height": null,
      "justify_content": null,
      "justify_items": null,
      "left": null,
      "margin": null,
      "max_height": null,
      "max_width": null,
      "min_height": null,
      "min_width": null,
      "object_fit": null,
      "object_position": null,
      "order": null,
      "overflow": null,
      "overflow_x": null,
      "overflow_y": null,
      "padding": null,
      "right": null,
      "top": null,
      "visibility": null,
      "width": null
     }
    },
    "a0fc63e03f8b46cc9cbf8f706e1c74b6": {
     "model_module": "@jupyter-widgets/controls",
     "model_name": "DescriptionStyleModel",
     "state": {
      "_model_module": "@jupyter-widgets/controls",
      "_model_module_version": "1.5.0",
      "_model_name": "DescriptionStyleModel",
      "_view_count": null,
      "_view_module": "@jupyter-widgets/base",
      "_view_module_version": "1.2.0",
      "_view_name": "StyleView",
      "description_width": ""
     }
    },
    "a4e84562022c41ac9612d818c2f36863": {
     "model_module": "@jupyter-widgets/controls",
     "model_name": "ProgressStyleModel",
     "state": {
      "_model_module": "@jupyter-widgets/controls",
      "_model_module_version": "1.5.0",
      "_model_name": "ProgressStyleModel",
      "_view_count": null,
      "_view_module": "@jupyter-widgets/base",
      "_view_module_version": "1.2.0",
      "_view_name": "StyleView",
      "bar_color": null,
      "description_width": ""
     }
    },
    "a9e38504c96649c487fd3a4810f86f7f": {
     "model_module": "@jupyter-widgets/controls",
     "model_name": "HBoxModel",
     "state": {
      "_dom_classes": [],
      "_model_module": "@jupyter-widgets/controls",
      "_model_module_version": "1.5.0",
      "_model_name": "HBoxModel",
      "_view_count": null,
      "_view_module": "@jupyter-widgets/controls",
      "_view_module_version": "1.5.0",
      "_view_name": "HBoxView",
      "box_style": "",
      "children": [
       "IPY_MODEL_65e8736f4f3f4555a6b5e470c1efe1a1",
       "IPY_MODEL_fe65ce1777f54662a11b544c014052bd"
      ],
      "layout": "IPY_MODEL_cd281a5ab2b74102a88e54eef7975a08"
     }
    },
    "aa7c207258d04c6cb4d6596a96d0f12d": {
     "model_module": "@jupyter-widgets/controls",
     "model_name": "IntProgressModel",
     "state": {
      "_dom_classes": [],
      "_model_module": "@jupyter-widgets/controls",
      "_model_module_version": "1.5.0",
      "_model_name": "IntProgressModel",
      "_view_count": null,
      "_view_module": "@jupyter-widgets/controls",
      "_view_module_version": "1.5.0",
      "_view_name": "ProgressView",
      "bar_style": "",
      "description": "Current iteration",
      "description_tooltip": null,
      "layout": "IPY_MODEL_bc02623a8ebc4719b91ee303d9267a58",
      "max": 4282,
      "min": 0,
      "orientation": "horizontal",
      "style": "IPY_MODEL_0f576027f8c04b8f86bc7f9c6076d685",
      "value": 795
     }
    },
    "afefa094c2694917ab8fb7f9f44d182e": {
     "model_module": "@jupyter-widgets/base",
     "model_name": "LayoutModel",
     "state": {
      "_model_module": "@jupyter-widgets/base",
      "_model_module_version": "1.2.0",
      "_model_name": "LayoutModel",
      "_view_count": null,
      "_view_module": "@jupyter-widgets/base",
      "_view_module_version": "1.2.0",
      "_view_name": "LayoutView",
      "align_content": null,
      "align_items": null,
      "align_self": null,
      "border": null,
      "bottom": null,
      "display": null,
      "flex": null,
      "flex_flow": null,
      "grid_area": null,
      "grid_auto_columns": null,
      "grid_auto_flow": null,
      "grid_auto_rows": null,
      "grid_column": null,
      "grid_gap": null,
      "grid_row": null,
      "grid_template_areas": null,
      "grid_template_columns": null,
      "grid_template_rows": null,
      "height": null,
      "justify_content": null,
      "justify_items": null,
      "left": null,
      "margin": null,
      "max_height": null,
      "max_width": null,
      "min_height": null,
      "min_width": null,
      "object_fit": null,
      "object_position": null,
      "order": null,
      "overflow": null,
      "overflow_x": null,
      "overflow_y": null,
      "padding": null,
      "right": null,
      "top": null,
      "visibility": null,
      "width": null
     }
    },
    "b164f995a57d4816b65357aff3514633": {
     "model_module": "@jupyter-widgets/base",
     "model_name": "LayoutModel",
     "state": {
      "_model_module": "@jupyter-widgets/base",
      "_model_module_version": "1.2.0",
      "_model_name": "LayoutModel",
      "_view_count": null,
      "_view_module": "@jupyter-widgets/base",
      "_view_module_version": "1.2.0",
      "_view_name": "LayoutView",
      "align_content": null,
      "align_items": null,
      "align_self": null,
      "border": null,
      "bottom": null,
      "display": null,
      "flex": null,
      "flex_flow": null,
      "grid_area": null,
      "grid_auto_columns": null,
      "grid_auto_flow": null,
      "grid_auto_rows": null,
      "grid_column": null,
      "grid_gap": null,
      "grid_row": null,
      "grid_template_areas": null,
      "grid_template_columns": null,
      "grid_template_rows": null,
      "height": null,
      "justify_content": null,
      "justify_items": null,
      "left": null,
      "margin": null,
      "max_height": null,
      "max_width": null,
      "min_height": null,
      "min_width": null,
      "object_fit": null,
      "object_position": null,
      "order": null,
      "overflow": null,
      "overflow_x": null,
      "overflow_y": null,
      "padding": null,
      "right": null,
      "top": null,
      "visibility": null,
      "width": null
     }
    },
    "b7fe871c7aa24f35976c9c61cc471afd": {
     "model_module": "@jupyter-widgets/base",
     "model_name": "LayoutModel",
     "state": {
      "_model_module": "@jupyter-widgets/base",
      "_model_module_version": "1.2.0",
      "_model_name": "LayoutModel",
      "_view_count": null,
      "_view_module": "@jupyter-widgets/base",
      "_view_module_version": "1.2.0",
      "_view_name": "LayoutView",
      "align_content": null,
      "align_items": null,
      "align_self": null,
      "border": null,
      "bottom": null,
      "display": null,
      "flex": null,
      "flex_flow": null,
      "grid_area": null,
      "grid_auto_columns": null,
      "grid_auto_flow": null,
      "grid_auto_rows": null,
      "grid_column": null,
      "grid_gap": null,
      "grid_row": null,
      "grid_template_areas": null,
      "grid_template_columns": null,
      "grid_template_rows": null,
      "height": null,
      "justify_content": null,
      "justify_items": null,
      "left": null,
      "margin": null,
      "max_height": null,
      "max_width": null,
      "min_height": null,
      "min_width": null,
      "object_fit": null,
      "object_position": null,
      "order": null,
      "overflow": null,
      "overflow_x": null,
      "overflow_y": null,
      "padding": null,
      "right": null,
      "top": null,
      "visibility": null,
      "width": null
     }
    },
    "b8648122520444cfac8b4455c3e0b41e": {
     "model_module": "@jupyter-widgets/controls",
     "model_name": "HTMLModel",
     "state": {
      "_dom_classes": [],
      "_model_module": "@jupyter-widgets/controls",
      "_model_module_version": "1.5.0",
      "_model_name": "HTMLModel",
      "_view_count": null,
      "_view_module": "@jupyter-widgets/controls",
      "_view_module_version": "1.5.0",
      "_view_name": "HTMLView",
      "description": "",
      "description_tooltip": null,
      "layout": "IPY_MODEL_a05bd131a0a94fe7be08cce267360484",
      "placeholder": "​",
      "style": "IPY_MODEL_927c9e2139204caab0154d20634c2be4",
      "value": " 19% 795/4282 [04:32&lt;20:00,  2.90it/s]"
     }
    },
    "b88186e6056c4f75bf57028d3748e564": {
     "model_module": "@jupyter-widgets/base",
     "model_name": "LayoutModel",
     "state": {
      "_model_module": "@jupyter-widgets/base",
      "_model_module_version": "1.2.0",
      "_model_name": "LayoutModel",
      "_view_count": null,
      "_view_module": "@jupyter-widgets/base",
      "_view_module_version": "1.2.0",
      "_view_name": "LayoutView",
      "align_content": null,
      "align_items": null,
      "align_self": null,
      "border": null,
      "bottom": null,
      "display": null,
      "flex": null,
      "flex_flow": null,
      "grid_area": null,
      "grid_auto_columns": null,
      "grid_auto_flow": null,
      "grid_auto_rows": null,
      "grid_column": null,
      "grid_gap": null,
      "grid_row": null,
      "grid_template_areas": null,
      "grid_template_columns": null,
      "grid_template_rows": null,
      "height": null,
      "justify_content": null,
      "justify_items": null,
      "left": null,
      "margin": null,
      "max_height": null,
      "max_width": null,
      "min_height": null,
      "min_width": null,
      "object_fit": null,
      "object_position": null,
      "order": null,
      "overflow": null,
      "overflow_x": null,
      "overflow_y": null,
      "padding": null,
      "right": null,
      "top": null,
      "visibility": null,
      "width": null
     }
    },
    "bc02623a8ebc4719b91ee303d9267a58": {
     "model_module": "@jupyter-widgets/base",
     "model_name": "LayoutModel",
     "state": {
      "_model_module": "@jupyter-widgets/base",
      "_model_module_version": "1.2.0",
      "_model_name": "LayoutModel",
      "_view_count": null,
      "_view_module": "@jupyter-widgets/base",
      "_view_module_version": "1.2.0",
      "_view_name": "LayoutView",
      "align_content": null,
      "align_items": null,
      "align_self": null,
      "border": null,
      "bottom": null,
      "display": null,
      "flex": null,
      "flex_flow": null,
      "grid_area": null,
      "grid_auto_columns": null,
      "grid_auto_flow": null,
      "grid_auto_rows": null,
      "grid_column": null,
      "grid_gap": null,
      "grid_row": null,
      "grid_template_areas": null,
      "grid_template_columns": null,
      "grid_template_rows": null,
      "height": null,
      "justify_content": null,
      "justify_items": null,
      "left": null,
      "margin": null,
      "max_height": null,
      "max_width": null,
      "min_height": null,
      "min_width": null,
      "object_fit": null,
      "object_position": null,
      "order": null,
      "overflow": null,
      "overflow_x": null,
      "overflow_y": null,
      "padding": null,
      "right": null,
      "top": null,
      "visibility": null,
      "width": null
     }
    },
    "c9c280f8eae44022899abb032ec43a39": {
     "model_module": "@jupyter-widgets/controls",
     "model_name": "ProgressStyleModel",
     "state": {
      "_model_module": "@jupyter-widgets/controls",
      "_model_module_version": "1.5.0",
      "_model_name": "ProgressStyleModel",
      "_view_count": null,
      "_view_module": "@jupyter-widgets/base",
      "_view_module_version": "1.2.0",
      "_view_name": "StyleView",
      "bar_color": null,
      "description_width": "initial"
     }
    },
    "cd281a5ab2b74102a88e54eef7975a08": {
     "model_module": "@jupyter-widgets/base",
     "model_name": "LayoutModel",
     "state": {
      "_model_module": "@jupyter-widgets/base",
      "_model_module_version": "1.2.0",
      "_model_name": "LayoutModel",
      "_view_count": null,
      "_view_module": "@jupyter-widgets/base",
      "_view_module_version": "1.2.0",
      "_view_name": "LayoutView",
      "align_content": null,
      "align_items": null,
      "align_self": null,
      "border": null,
      "bottom": null,
      "display": null,
      "flex": null,
      "flex_flow": null,
      "grid_area": null,
      "grid_auto_columns": null,
      "grid_auto_flow": null,
      "grid_auto_rows": null,
      "grid_column": null,
      "grid_gap": null,
      "grid_row": null,
      "grid_template_areas": null,
      "grid_template_columns": null,
      "grid_template_rows": null,
      "height": null,
      "justify_content": null,
      "justify_items": null,
      "left": null,
      "margin": null,
      "max_height": null,
      "max_width": null,
      "min_height": null,
      "min_width": null,
      "object_fit": null,
      "object_position": null,
      "order": null,
      "overflow": null,
      "overflow_x": null,
      "overflow_y": null,
      "padding": null,
      "right": null,
      "top": null,
      "visibility": null,
      "width": null
     }
    },
    "db7ddd893813493e8ab0248f3a97c49f": {
     "model_module": "@jupyter-widgets/controls",
     "model_name": "ProgressStyleModel",
     "state": {
      "_model_module": "@jupyter-widgets/controls",
      "_model_module_version": "1.5.0",
      "_model_name": "ProgressStyleModel",
      "_view_count": null,
      "_view_module": "@jupyter-widgets/base",
      "_view_module_version": "1.2.0",
      "_view_name": "StyleView",
      "bar_color": null,
      "description_width": ""
     }
    },
    "e3db719c693246c7874ea9e61338b392": {
     "model_module": "@jupyter-widgets/controls",
     "model_name": "DescriptionStyleModel",
     "state": {
      "_model_module": "@jupyter-widgets/controls",
      "_model_module_version": "1.5.0",
      "_model_name": "DescriptionStyleModel",
      "_view_count": null,
      "_view_module": "@jupyter-widgets/base",
      "_view_module_version": "1.2.0",
      "_view_name": "StyleView",
      "description_width": ""
     }
    },
    "ecad2789e81949d0a6bbdd1ddd8e1685": {
     "model_module": "@jupyter-widgets/controls",
     "model_name": "HTMLModel",
     "state": {
      "_dom_classes": [],
      "_model_module": "@jupyter-widgets/controls",
      "_model_module_version": "1.5.0",
      "_model_name": "HTMLModel",
      "_view_count": null,
      "_view_module": "@jupyter-widgets/controls",
      "_view_module_version": "1.5.0",
      "_view_name": "HTMLView",
      "description": "",
      "description_tooltip": null,
      "layout": "IPY_MODEL_f458cbdf22b142c0891340ac9e2ef283",
      "placeholder": "​",
      "style": "IPY_MODEL_ed7855ef83f440b2be5b3aae326a8d50",
      "value": "100% 4282/4282 [24:00&lt;00:00,  3.32it/s]"
     }
    },
    "ed7855ef83f440b2be5b3aae326a8d50": {
     "model_module": "@jupyter-widgets/controls",
     "model_name": "DescriptionStyleModel",
     "state": {
      "_model_module": "@jupyter-widgets/controls",
      "_model_module_version": "1.5.0",
      "_model_name": "DescriptionStyleModel",
      "_view_count": null,
      "_view_module": "@jupyter-widgets/base",
      "_view_module_version": "1.2.0",
      "_view_name": "StyleView",
      "description_width": ""
     }
    },
    "ed96da96e5024f65bd8412f966b89ce6": {
     "model_module": "@jupyter-widgets/base",
     "model_name": "LayoutModel",
     "state": {
      "_model_module": "@jupyter-widgets/base",
      "_model_module_version": "1.2.0",
      "_model_name": "LayoutModel",
      "_view_count": null,
      "_view_module": "@jupyter-widgets/base",
      "_view_module_version": "1.2.0",
      "_view_name": "LayoutView",
      "align_content": null,
      "align_items": null,
      "align_self": null,
      "border": null,
      "bottom": null,
      "display": null,
      "flex": null,
      "flex_flow": null,
      "grid_area": null,
      "grid_auto_columns": null,
      "grid_auto_flow": null,
      "grid_auto_rows": null,
      "grid_column": null,
      "grid_gap": null,
      "grid_row": null,
      "grid_template_areas": null,
      "grid_template_columns": null,
      "grid_template_rows": null,
      "height": null,
      "justify_content": null,
      "justify_items": null,
      "left": null,
      "margin": null,
      "max_height": null,
      "max_width": null,
      "min_height": null,
      "min_width": null,
      "object_fit": null,
      "object_position": null,
      "order": null,
      "overflow": null,
      "overflow_x": null,
      "overflow_y": null,
      "padding": null,
      "right": null,
      "top": null,
      "visibility": null,
      "width": null
     }
    },
    "f458cbdf22b142c0891340ac9e2ef283": {
     "model_module": "@jupyter-widgets/base",
     "model_name": "LayoutModel",
     "state": {
      "_model_module": "@jupyter-widgets/base",
      "_model_module_version": "1.2.0",
      "_model_name": "LayoutModel",
      "_view_count": null,
      "_view_module": "@jupyter-widgets/base",
      "_view_module_version": "1.2.0",
      "_view_name": "LayoutView",
      "align_content": null,
      "align_items": null,
      "align_self": null,
      "border": null,
      "bottom": null,
      "display": null,
      "flex": null,
      "flex_flow": null,
      "grid_area": null,
      "grid_auto_columns": null,
      "grid_auto_flow": null,
      "grid_auto_rows": null,
      "grid_column": null,
      "grid_gap": null,
      "grid_row": null,
      "grid_template_areas": null,
      "grid_template_columns": null,
      "grid_template_rows": null,
      "height": null,
      "justify_content": null,
      "justify_items": null,
      "left": null,
      "margin": null,
      "max_height": null,
      "max_width": null,
      "min_height": null,
      "min_width": null,
      "object_fit": null,
      "object_position": null,
      "order": null,
      "overflow": null,
      "overflow_x": null,
      "overflow_y": null,
      "padding": null,
      "right": null,
      "top": null,
      "visibility": null,
      "width": null
     }
    },
    "f730e5bdd86f46af88cfdf5649af273a": {
     "model_module": "@jupyter-widgets/controls",
     "model_name": "IntProgressModel",
     "state": {
      "_dom_classes": [],
      "_model_module": "@jupyter-widgets/controls",
      "_model_module_version": "1.5.0",
      "_model_name": "IntProgressModel",
      "_view_count": null,
      "_view_module": "@jupyter-widgets/controls",
      "_view_module_version": "1.5.0",
      "_view_name": "ProgressView",
      "bar_style": "success",
      "description": "",
      "description_tooltip": null,
      "layout": "IPY_MODEL_439b8d2e60fe4f65a97863a125ffeed8",
      "max": 24712,
      "min": 0,
      "orientation": "horizontal",
      "style": "IPY_MODEL_432773fcf60e467ebd98b21e6b239fb6",
      "value": 24712
     }
    },
    "fa0971d7fa8843578406f3dd8edd9a7e": {
     "model_module": "@jupyter-widgets/controls",
     "model_name": "IntProgressModel",
     "state": {
      "_dom_classes": [],
      "_model_module": "@jupyter-widgets/controls",
      "_model_module_version": "1.5.0",
      "_model_name": "IntProgressModel",
      "_view_count": null,
      "_view_module": "@jupyter-widgets/controls",
      "_view_module_version": "1.5.0",
      "_view_name": "ProgressView",
      "bar_style": "",
      "description": "Epoch",
      "description_tooltip": null,
      "layout": "IPY_MODEL_59a0564960ab40fba806c63304cc26a9",
      "max": 10,
      "min": 0,
      "orientation": "horizontal",
      "style": "IPY_MODEL_7406c9b7e4c949afbaa597885ac2e72c",
      "value": 1
     }
    },
    "fe65ce1777f54662a11b544c014052bd": {
     "model_module": "@jupyter-widgets/controls",
     "model_name": "HTMLModel",
     "state": {
      "_dom_classes": [],
      "_model_module": "@jupyter-widgets/controls",
      "_model_module_version": "1.5.0",
      "_model_name": "HTMLModel",
      "_view_count": null,
      "_view_module": "@jupyter-widgets/controls",
      "_view_module_version": "1.5.0",
      "_view_name": "HTMLView",
      "description": "",
      "description_tooltip": null,
      "layout": "IPY_MODEL_653e1c3c0a614c16a81e1725aa6d09ee",
      "placeholder": "​",
      "style": "IPY_MODEL_41604477b2c94a379e88dac9f64dfdd8",
      "value": "100% 3089/3089 [03:20&lt;00:00, 15.41it/s]"
     }
    },
    "fecc218b12414aa5a220bcc25d520287": {
     "model_module": "@jupyter-widgets/base",
     "model_name": "LayoutModel",
     "state": {
      "_model_module": "@jupyter-widgets/base",
      "_model_module_version": "1.2.0",
      "_model_name": "LayoutModel",
      "_view_count": null,
      "_view_module": "@jupyter-widgets/base",
      "_view_module_version": "1.2.0",
      "_view_name": "LayoutView",
      "align_content": null,
      "align_items": null,
      "align_self": null,
      "border": null,
      "bottom": null,
      "display": null,
      "flex": null,
      "flex_flow": null,
      "grid_area": null,
      "grid_auto_columns": null,
      "grid_auto_flow": null,
      "grid_auto_rows": null,
      "grid_column": null,
      "grid_gap": null,
      "grid_row": null,
      "grid_template_areas": null,
      "grid_template_columns": null,
      "grid_template_rows": null,
      "height": null,
      "justify_content": null,
      "justify_items": null,
      "left": null,
      "margin": null,
      "max_height": null,
      "max_width": null,
      "min_height": null,
      "min_width": null,
      "object_fit": null,
      "object_position": null,
      "order": null,
      "overflow": null,
      "overflow_x": null,
      "overflow_y": null,
      "padding": null,
      "right": null,
      "top": null,
      "visibility": null,
      "width": null
     }
    }
   }
  }
 },
 "nbformat": 4,
 "nbformat_minor": 1
}
